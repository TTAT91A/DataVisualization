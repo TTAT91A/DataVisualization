{
 "cells": [
  {
   "attachments": {},
   "cell_type": "markdown",
   "metadata": {},
   "source": [
    "## A. Thu thập dữ liệu\n",
    "### 1. Lý do lựa chọn tập dữ liệu\n",
    "### 2. Thông tin về tập dữ liệu\n",
    "#### 2.1. Chủ đề và nguồn\n",
    "- Chủ đề: Airplane crashes\n",
    "- Nguồn: https://data.world/data-society/airplane-crashes\n",
    "#### 2.2. Giấy phép\n",
    "- [Open Database License (ODbL)](https://opendatacommons.org/licenses/odbl/1-0/)\n",
    "#### 2.3. Phương pháp thu thập\n",
    "- Source: https://opendata.socrata.com/Government/Airplane-Crashes-and-Fatalities-Since-1908/q2te-8cvq\n",
    "#### 2.4. Thông tin thêm\n",
    "Database Format\n",
    "- **Date**: Date of accident, in the format - January 01, 2001\n",
    "- **Time**: Local time, in 24 hr. format unless otherwise specified\n",
    "- **Location**: Local time, in 24 hr. format unless otherwise specified\n",
    "- **Operator**: Airline or operator of the aircraft\n",
    "- **Flight #**: Flight number assigned by the aircraft operator\n",
    "- **Route**: Complete or partial route flown prior to the accident\n",
    "- **Type**: Aircraft type\n",
    "- **Reg**: ICAO registration of the aircraft\n",
    "- **cn / ln**: Construction or serial number / Line or fuselage number\n",
    "- **Aboard**: Total aboard (passengers / crew)\n",
    "- **Fatalities** : Total fatalities aboard (passengers / crew)\n",
    "- **Ground**: Total killed on the ground\n",
    "- **Summary**: Brief description of the accident and cause if known\n",
    "\n",
    "***"
   ]
  },
  {
   "attachments": {},
   "cell_type": "markdown",
   "metadata": {},
   "source": [
    "## B. Khám phá dữ liệu"
   ]
  },
  {
   "cell_type": "code",
   "execution_count": 41,
   "metadata": {},
   "outputs": [],
   "source": [
    "import pandas as pd\n",
    "import numpy as np\n",
    "import matplotlib.pyplot as plt\n",
    "import seaborn as sns\n",
    "import plotly.express as px\n",
    "import plotly.graph_objs as go"
   ]
  },
  {
   "attachments": {},
   "cell_type": "markdown",
   "metadata": {},
   "source": [
    "### 1. Đọc dữ liệu, tính số dòng và số cột"
   ]
  },
  {
   "cell_type": "code",
   "execution_count": 42,
   "metadata": {},
   "outputs": [
    {
     "data": {
      "text/html": [
       "<div>\n",
       "<style scoped>\n",
       "    .dataframe tbody tr th:only-of-type {\n",
       "        vertical-align: middle;\n",
       "    }\n",
       "\n",
       "    .dataframe tbody tr th {\n",
       "        vertical-align: top;\n",
       "    }\n",
       "\n",
       "    .dataframe thead th {\n",
       "        text-align: right;\n",
       "    }\n",
       "</style>\n",
       "<table border=\"1\" class=\"dataframe\">\n",
       "  <thead>\n",
       "    <tr style=\"text-align: right;\">\n",
       "      <th></th>\n",
       "      <th>Date</th>\n",
       "      <th>Time</th>\n",
       "      <th>Location</th>\n",
       "      <th>Operator</th>\n",
       "      <th>Flight #</th>\n",
       "      <th>Route</th>\n",
       "      <th>Type</th>\n",
       "      <th>Registration</th>\n",
       "      <th>cn/In</th>\n",
       "      <th>Aboard</th>\n",
       "      <th>Fatalities</th>\n",
       "      <th>Ground</th>\n",
       "      <th>Summary</th>\n",
       "    </tr>\n",
       "  </thead>\n",
       "  <tbody>\n",
       "    <tr>\n",
       "      <th>0</th>\n",
       "      <td>09/17/1908</td>\n",
       "      <td>17:18</td>\n",
       "      <td>Fort Myer, Virginia</td>\n",
       "      <td>Military - U.S. Army</td>\n",
       "      <td>NaN</td>\n",
       "      <td>Demonstration</td>\n",
       "      <td>Wright Flyer III</td>\n",
       "      <td>NaN</td>\n",
       "      <td>1</td>\n",
       "      <td>2.0</td>\n",
       "      <td>1.0</td>\n",
       "      <td>0.0</td>\n",
       "      <td>During a demonstration flight, a U.S. Army fly...</td>\n",
       "    </tr>\n",
       "    <tr>\n",
       "      <th>1</th>\n",
       "      <td>07/12/1912</td>\n",
       "      <td>06:30</td>\n",
       "      <td>AtlantiCity, New Jersey</td>\n",
       "      <td>Military - U.S. Navy</td>\n",
       "      <td>NaN</td>\n",
       "      <td>Test flight</td>\n",
       "      <td>Dirigible</td>\n",
       "      <td>NaN</td>\n",
       "      <td>NaN</td>\n",
       "      <td>5.0</td>\n",
       "      <td>5.0</td>\n",
       "      <td>0.0</td>\n",
       "      <td>First U.S. dirigible Akron exploded just offsh...</td>\n",
       "    </tr>\n",
       "    <tr>\n",
       "      <th>2</th>\n",
       "      <td>08/06/1913</td>\n",
       "      <td>NaN</td>\n",
       "      <td>Victoria, British Columbia, Canada</td>\n",
       "      <td>Private</td>\n",
       "      <td>-</td>\n",
       "      <td>NaN</td>\n",
       "      <td>Curtiss seaplane</td>\n",
       "      <td>NaN</td>\n",
       "      <td>NaN</td>\n",
       "      <td>1.0</td>\n",
       "      <td>1.0</td>\n",
       "      <td>0.0</td>\n",
       "      <td>The first fatal airplane accident in Canada oc...</td>\n",
       "    </tr>\n",
       "    <tr>\n",
       "      <th>3</th>\n",
       "      <td>09/09/1913</td>\n",
       "      <td>18:30</td>\n",
       "      <td>Over the North Sea</td>\n",
       "      <td>Military - German Navy</td>\n",
       "      <td>NaN</td>\n",
       "      <td>NaN</td>\n",
       "      <td>Zeppelin L-1 (airship)</td>\n",
       "      <td>NaN</td>\n",
       "      <td>NaN</td>\n",
       "      <td>20.0</td>\n",
       "      <td>14.0</td>\n",
       "      <td>0.0</td>\n",
       "      <td>The airship flew into a thunderstorm and encou...</td>\n",
       "    </tr>\n",
       "    <tr>\n",
       "      <th>4</th>\n",
       "      <td>10/17/1913</td>\n",
       "      <td>10:30</td>\n",
       "      <td>Near Johannisthal, Germany</td>\n",
       "      <td>Military - German Navy</td>\n",
       "      <td>NaN</td>\n",
       "      <td>NaN</td>\n",
       "      <td>Zeppelin L-2 (airship)</td>\n",
       "      <td>NaN</td>\n",
       "      <td>NaN</td>\n",
       "      <td>30.0</td>\n",
       "      <td>30.0</td>\n",
       "      <td>0.0</td>\n",
       "      <td>Hydrogen gas which was being vented was sucked...</td>\n",
       "    </tr>\n",
       "  </tbody>\n",
       "</table>\n",
       "</div>"
      ],
      "text/plain": [
       "         Date   Time                            Location  \\\n",
       "0  09/17/1908  17:18                 Fort Myer, Virginia   \n",
       "1  07/12/1912  06:30             AtlantiCity, New Jersey   \n",
       "2  08/06/1913    NaN  Victoria, British Columbia, Canada   \n",
       "3  09/09/1913  18:30                  Over the North Sea   \n",
       "4  10/17/1913  10:30          Near Johannisthal, Germany   \n",
       "\n",
       "                 Operator Flight #          Route                    Type  \\\n",
       "0    Military - U.S. Army      NaN  Demonstration        Wright Flyer III   \n",
       "1    Military - U.S. Navy      NaN    Test flight               Dirigible   \n",
       "2                 Private        -            NaN        Curtiss seaplane   \n",
       "3  Military - German Navy      NaN            NaN  Zeppelin L-1 (airship)   \n",
       "4  Military - German Navy      NaN            NaN  Zeppelin L-2 (airship)   \n",
       "\n",
       "  Registration cn/In  Aboard  Fatalities  Ground  \\\n",
       "0          NaN     1     2.0         1.0     0.0   \n",
       "1          NaN   NaN     5.0         5.0     0.0   \n",
       "2          NaN   NaN     1.0         1.0     0.0   \n",
       "3          NaN   NaN    20.0        14.0     0.0   \n",
       "4          NaN   NaN    30.0        30.0     0.0   \n",
       "\n",
       "                                             Summary  \n",
       "0  During a demonstration flight, a U.S. Army fly...  \n",
       "1  First U.S. dirigible Akron exploded just offsh...  \n",
       "2  The first fatal airplane accident in Canada oc...  \n",
       "3  The airship flew into a thunderstorm and encou...  \n",
       "4  Hydrogen gas which was being vented was sucked...  "
      ]
     },
     "execution_count": 42,
     "metadata": {},
     "output_type": "execute_result"
    }
   ],
   "source": [
    "df = pd.read_csv(\"./Airplane_Crashes_and_Fatalities_Since_1908.csv\")\n",
    "df.head()"
   ]
  },
  {
   "cell_type": "code",
   "execution_count": 43,
   "metadata": {},
   "outputs": [
    {
     "name": "stdout",
     "output_type": "stream",
     "text": [
      "Number of rows: 5268 \n",
      "Number of columns: 13\n"
     ]
    }
   ],
   "source": [
    "num_rows, num_columns = df.shape\n",
    "print(\"Number of rows: {} \\nNumber of columns: {}\".format(num_rows,num_columns))"
   ]
  },
  {
   "attachments": {},
   "cell_type": "markdown",
   "metadata": {},
   "source": [
    "### 2. Mỗi dòng có ý nghĩa gì? Có vấn đề các dòng có ý nghĩa khác nhau không?"
   ]
  },
  {
   "attachments": {},
   "cell_type": "markdown",
   "metadata": {},
   "source": [
    "Kiểm tra xem có dòng nào bị lặp không?"
   ]
  },
  {
   "cell_type": "code",
   "execution_count": 44,
   "metadata": {},
   "outputs": [
    {
     "data": {
      "text/plain": [
       "False"
      ]
     },
     "execution_count": 44,
     "metadata": {},
     "output_type": "execute_result"
    }
   ],
   "source": [
    "df.duplicated().any()"
   ]
  },
  {
   "attachments": {},
   "cell_type": "markdown",
   "metadata": {},
   "source": [
    "Như vậy, không có dòng nào bị lặp"
   ]
  },
  {
   "attachments": {},
   "cell_type": "markdown",
   "metadata": {},
   "source": [
    "### 3. Mỗi cột có ý nghĩa gì?"
   ]
  },
  {
   "attachments": {},
   "cell_type": "markdown",
   "metadata": {},
   "source": [
    "Ý nghĩa của mỗi cột đã được đề cập ở phần A"
   ]
  },
  {
   "attachments": {},
   "cell_type": "markdown",
   "metadata": {},
   "source": [
    "### 4. Mỗi cột hiện đang có kiểu dữ liệu gì? Có cột nào có kiểu dữ liệu chưa phù hợp để có thể xử lý tiếp hay không?"
   ]
  },
  {
   "cell_type": "code",
   "execution_count": 45,
   "metadata": {},
   "outputs": [
    {
     "name": "stdout",
     "output_type": "stream",
     "text": [
      "<class 'pandas.core.frame.DataFrame'>\n",
      "RangeIndex: 5268 entries, 0 to 5267\n",
      "Data columns (total 13 columns):\n",
      " #   Column        Non-Null Count  Dtype  \n",
      "---  ------        --------------  -----  \n",
      " 0   Date          5268 non-null   object \n",
      " 1   Time          3049 non-null   object \n",
      " 2   Location      5248 non-null   object \n",
      " 3   Operator      5250 non-null   object \n",
      " 4   Flight #      1069 non-null   object \n",
      " 5   Route         3562 non-null   object \n",
      " 6   Type          5241 non-null   object \n",
      " 7   Registration  4933 non-null   object \n",
      " 8   cn/In         4040 non-null   object \n",
      " 9   Aboard        5246 non-null   float64\n",
      " 10  Fatalities    5256 non-null   float64\n",
      " 11  Ground        5246 non-null   float64\n",
      " 12  Summary       4878 non-null   object \n",
      "dtypes: float64(3), object(10)\n",
      "memory usage: 535.2+ KB\n"
     ]
    }
   ],
   "source": [
    "df.info()"
   ]
  },
  {
   "attachments": {},
   "cell_type": "markdown",
   "metadata": {},
   "source": [
    "Tính tỉ lệ thiếu của mỗi cột"
   ]
  },
  {
   "cell_type": "code",
   "execution_count": 46,
   "metadata": {},
   "outputs": [
    {
     "data": {
      "text/plain": [
       "Date            0.000000\n",
       "Time            0.421222\n",
       "Location        0.003797\n",
       "Operator        0.003417\n",
       "Flight #        0.797077\n",
       "Route           0.323842\n",
       "Type            0.005125\n",
       "Registration    0.063591\n",
       "cn/In           0.233106\n",
       "Aboard          0.004176\n",
       "Fatalities      0.002278\n",
       "Ground          0.004176\n",
       "Summary         0.074032\n",
       "dtype: float64"
      ]
     },
     "execution_count": 46,
     "metadata": {},
     "output_type": "execute_result"
    }
   ],
   "source": [
    "missing_ratio = df.isnull().sum()/num_rows\n",
    "missing_ratio"
   ]
  },
  {
   "attachments": {},
   "cell_type": "markdown",
   "metadata": {},
   "source": [
    "Xóa những cột không cần thiết"
   ]
  },
  {
   "cell_type": "code",
   "execution_count": 47,
   "metadata": {},
   "outputs": [],
   "source": [
    "df.drop([\"Flight #\", \"Registration\", \"cn/In\"], axis=1, inplace=True)"
   ]
  },
  {
   "attachments": {},
   "cell_type": "markdown",
   "metadata": {},
   "source": [
    "Chuyển định dạng cột `Date` và `Time` về đúng định dạng là `datetime`"
   ]
  },
  {
   "cell_type": "code",
   "execution_count": 48,
   "metadata": {},
   "outputs": [],
   "source": [
    "df['Date'] = pd.to_datetime(df['Date'], format=\"%m/%d/%Y\")"
   ]
  },
  {
   "cell_type": "code",
   "execution_count": 49,
   "metadata": {},
   "outputs": [],
   "source": [
    "df['Time'] = df['Time'].str.extract(r\"([0-9]{1,2}:[0-9]{2})\")\n",
    "df[\"Time\"] = pd.to_datetime(df[\"Time\"], format='%H:%M')"
   ]
  },
  {
   "attachments": {},
   "cell_type": "markdown",
   "metadata": {},
   "source": [
    "Điền giá trị thiếu ở cột `Time` là `00:00`"
   ]
  },
  {
   "cell_type": "code",
   "execution_count": 50,
   "metadata": {},
   "outputs": [],
   "source": [
    "df['Time'] = df['Time'].fillna(\"00:00\")"
   ]
  },
  {
   "attachments": {},
   "cell_type": "markdown",
   "metadata": {},
   "source": [
    "Điền giá tri thiếu cho các cột categorical là `Unknown`"
   ]
  },
  {
   "cell_type": "code",
   "execution_count": 51,
   "metadata": {},
   "outputs": [],
   "source": [
    "df[\"Location\"].fillna(\"Unknown\", inplace=True)\n",
    "df[\"Operator\"].fillna(\"Unknown\", inplace=True)\n",
    "df[\"Route\"].fillna(\"Unknown\", inplace=True)\n",
    "df[\"Type\"].fillna(\"Unknown\", inplace=True)\n",
    "df[\"Summary\"].fillna(\"Unknown\", inplace=True)"
   ]
  },
  {
   "attachments": {},
   "cell_type": "markdown",
   "metadata": {},
   "source": [
    "Tỉ lệ giá trị thiếu của các cột có kiểu dữ liệu số là không nhiều. Do đó ta sẽ bỏ những hàng có giá trị thiếu đi"
   ]
  },
  {
   "cell_type": "code",
   "execution_count": 52,
   "metadata": {},
   "outputs": [],
   "source": [
    "df.dropna(subset=['Aboard','Fatalities','Ground'],inplace=True)"
   ]
  },
  {
   "cell_type": "code",
   "execution_count": 53,
   "metadata": {},
   "outputs": [
    {
     "name": "stdout",
     "output_type": "stream",
     "text": [
      "<class 'pandas.core.frame.DataFrame'>\n",
      "Int64Index: 5236 entries, 0 to 5267\n",
      "Data columns (total 10 columns):\n",
      " #   Column      Non-Null Count  Dtype         \n",
      "---  ------      --------------  -----         \n",
      " 0   Date        5236 non-null   datetime64[ns]\n",
      " 1   Time        5236 non-null   datetime64[ns]\n",
      " 2   Location    5236 non-null   object        \n",
      " 3   Operator    5236 non-null   object        \n",
      " 4   Route       5236 non-null   object        \n",
      " 5   Type        5236 non-null   object        \n",
      " 6   Aboard      5236 non-null   float64       \n",
      " 7   Fatalities  5236 non-null   float64       \n",
      " 8   Ground      5236 non-null   float64       \n",
      " 9   Summary     5236 non-null   object        \n",
      "dtypes: datetime64[ns](2), float64(3), object(5)\n",
      "memory usage: 450.0+ KB\n"
     ]
    }
   ],
   "source": [
    "df.info()"
   ]
  },
  {
   "attachments": {},
   "cell_type": "markdown",
   "metadata": {},
   "source": [
    "### 5. Với mỗi cột, các giá trị (dạng số, dạng phân loại) được phân bố như thế nào?"
   ]
  },
  {
   "attachments": {},
   "cell_type": "markdown",
   "metadata": {},
   "source": [
    "Với mỗi cột có giá trị số, các giá trị được phân bố"
   ]
  },
  {
   "cell_type": "code",
   "execution_count": 54,
   "metadata": {},
   "outputs": [
    {
     "data": {
      "text/html": [
       "<div>\n",
       "<style scoped>\n",
       "    .dataframe tbody tr th:only-of-type {\n",
       "        vertical-align: middle;\n",
       "    }\n",
       "\n",
       "    .dataframe tbody tr th {\n",
       "        vertical-align: top;\n",
       "    }\n",
       "\n",
       "    .dataframe thead th {\n",
       "        text-align: right;\n",
       "    }\n",
       "</style>\n",
       "<table border=\"1\" class=\"dataframe\">\n",
       "  <thead>\n",
       "    <tr style=\"text-align: right;\">\n",
       "      <th></th>\n",
       "      <th>Aboard</th>\n",
       "      <th>Fatalities</th>\n",
       "      <th>Ground</th>\n",
       "    </tr>\n",
       "  </thead>\n",
       "  <tbody>\n",
       "    <tr>\n",
       "      <th>count</th>\n",
       "      <td>5236.000000</td>\n",
       "      <td>5236.000000</td>\n",
       "      <td>5236.000000</td>\n",
       "    </tr>\n",
       "    <tr>\n",
       "      <th>mean</th>\n",
       "      <td>27.589190</td>\n",
       "      <td>20.104851</td>\n",
       "      <td>1.611154</td>\n",
       "    </tr>\n",
       "    <tr>\n",
       "      <th>std</th>\n",
       "      <td>43.109636</td>\n",
       "      <td>33.238341</td>\n",
       "      <td>54.039316</td>\n",
       "    </tr>\n",
       "    <tr>\n",
       "      <th>min</th>\n",
       "      <td>0.000000</td>\n",
       "      <td>0.000000</td>\n",
       "      <td>0.000000</td>\n",
       "    </tr>\n",
       "    <tr>\n",
       "      <th>25%</th>\n",
       "      <td>5.000000</td>\n",
       "      <td>3.000000</td>\n",
       "      <td>0.000000</td>\n",
       "    </tr>\n",
       "    <tr>\n",
       "      <th>50%</th>\n",
       "      <td>13.000000</td>\n",
       "      <td>9.000000</td>\n",
       "      <td>0.000000</td>\n",
       "    </tr>\n",
       "    <tr>\n",
       "      <th>75%</th>\n",
       "      <td>30.000000</td>\n",
       "      <td>23.000000</td>\n",
       "      <td>0.000000</td>\n",
       "    </tr>\n",
       "    <tr>\n",
       "      <th>max</th>\n",
       "      <td>644.000000</td>\n",
       "      <td>583.000000</td>\n",
       "      <td>2750.000000</td>\n",
       "    </tr>\n",
       "  </tbody>\n",
       "</table>\n",
       "</div>"
      ],
      "text/plain": [
       "            Aboard   Fatalities       Ground\n",
       "count  5236.000000  5236.000000  5236.000000\n",
       "mean     27.589190    20.104851     1.611154\n",
       "std      43.109636    33.238341    54.039316\n",
       "min       0.000000     0.000000     0.000000\n",
       "25%       5.000000     3.000000     0.000000\n",
       "50%      13.000000     9.000000     0.000000\n",
       "75%      30.000000    23.000000     0.000000\n",
       "max     644.000000   583.000000  2750.000000"
      ]
     },
     "execution_count": 54,
     "metadata": {},
     "output_type": "execute_result"
    }
   ],
   "source": [
    "df.describe()"
   ]
  },
  {
   "attachments": {},
   "cell_type": "markdown",
   "metadata": {},
   "source": [
    "Với mỗi cột có giá trị dạng phân loại, các giá trị được phân bố"
   ]
  },
  {
   "cell_type": "code",
   "execution_count": 55,
   "metadata": {},
   "outputs": [
    {
     "data": {
      "text/html": [
       "<div>\n",
       "<style scoped>\n",
       "    .dataframe tbody tr th:only-of-type {\n",
       "        vertical-align: middle;\n",
       "    }\n",
       "\n",
       "    .dataframe tbody tr th {\n",
       "        vertical-align: top;\n",
       "    }\n",
       "\n",
       "    .dataframe thead th {\n",
       "        text-align: right;\n",
       "    }\n",
       "</style>\n",
       "<table border=\"1\" class=\"dataframe\">\n",
       "  <thead>\n",
       "    <tr style=\"text-align: right;\">\n",
       "      <th></th>\n",
       "      <th>Location</th>\n",
       "      <th>Operator</th>\n",
       "      <th>Route</th>\n",
       "      <th>Type</th>\n",
       "      <th>Summary</th>\n",
       "    </tr>\n",
       "    <tr>\n",
       "      <th>row_name</th>\n",
       "      <th></th>\n",
       "      <th></th>\n",
       "      <th></th>\n",
       "      <th></th>\n",
       "      <th></th>\n",
       "    </tr>\n",
       "  </thead>\n",
       "  <tbody>\n",
       "    <tr>\n",
       "      <th>missing_ratio</th>\n",
       "      <td>0.0</td>\n",
       "      <td>0.0</td>\n",
       "      <td>0.0</td>\n",
       "      <td>0.0</td>\n",
       "      <td>0.0</td>\n",
       "    </tr>\n",
       "    <tr>\n",
       "      <th>num_values</th>\n",
       "      <td>4281</td>\n",
       "      <td>2475</td>\n",
       "      <td>3236</td>\n",
       "      <td>2436</td>\n",
       "      <td>4653</td>\n",
       "    </tr>\n",
       "    <tr>\n",
       "      <th>value_ratios</th>\n",
       "      <td>{'Unknown': 0.363, 'Moscow, Russia': 0.286, 'S...</td>\n",
       "      <td>{'Aeroflot': 3.419, 'Military - U.S. Air Force...</td>\n",
       "      <td>{'Unknown': 32.2, 'Training': 1.528, 'Sightsee...</td>\n",
       "      <td>{'Douglas DC-3': 6.341, 'de Havilland Canada D...</td>\n",
       "      <td>{'Unknown': 7.296, 'Crashed during takeoff.': ...</td>\n",
       "    </tr>\n",
       "  </tbody>\n",
       "</table>\n",
       "</div>"
      ],
      "text/plain": [
       "                                                        Location  \\\n",
       "row_name                                                           \n",
       "missing_ratio                                                0.0   \n",
       "num_values                                                  4281   \n",
       "value_ratios   {'Unknown': 0.363, 'Moscow, Russia': 0.286, 'S...   \n",
       "\n",
       "                                                        Operator  \\\n",
       "row_name                                                           \n",
       "missing_ratio                                                0.0   \n",
       "num_values                                                  2475   \n",
       "value_ratios   {'Aeroflot': 3.419, 'Military - U.S. Air Force...   \n",
       "\n",
       "                                                           Route  \\\n",
       "row_name                                                           \n",
       "missing_ratio                                                0.0   \n",
       "num_values                                                  3236   \n",
       "value_ratios   {'Unknown': 32.2, 'Training': 1.528, 'Sightsee...   \n",
       "\n",
       "                                                            Type  \\\n",
       "row_name                                                           \n",
       "missing_ratio                                                0.0   \n",
       "num_values                                                  2436   \n",
       "value_ratios   {'Douglas DC-3': 6.341, 'de Havilland Canada D...   \n",
       "\n",
       "                                                         Summary  \n",
       "row_name                                                          \n",
       "missing_ratio                                                0.0  \n",
       "num_values                                                  4653  \n",
       "value_ratios   {'Unknown': 7.296, 'Crashed during takeoff.': ...  "
      ]
     },
     "execution_count": 55,
     "metadata": {},
     "output_type": "execute_result"
    }
   ],
   "source": [
    "categorical_df=df.select_dtypes(exclude=['int64','float64','datetime64'])\n",
    "data = {\n",
    "    \"row_name\" : [\"missing_ratio\", \"num_values\", \"value_ratios\"]\n",
    "}\n",
    "col_names = list(categorical_df.columns)\n",
    "for i in col_names:\n",
    "    _data = []\n",
    "\n",
    "    #Tính missing ratio\n",
    "    missing_ratio = (categorical_df[i].isna().sum())/len(df[i]) * 100\n",
    "    _data.append(missing_ratio)\n",
    "\n",
    "    #Tính số lượng giá trị khác nhau\n",
    "    num_values = categorical_df[i].dropna().nunique()\n",
    "    _data.append(num_values)\n",
    "\n",
    "    #Tính tỉ lệ của các giá trị\n",
    "    dict_value_ratios ={}\n",
    "    values = categorical_df[i].value_counts(normalize=True,sort=True)\n",
    "    name_values = list(values.index)\n",
    "    for k in range(len(name_values)):\n",
    "        dict_value_ratios[name_values[k]] = round(values.values[k]*100,3)\n",
    "    _data.append(dict_value_ratios)\n",
    "    \n",
    "    data[i] = _data\n",
    "\n",
    "cat_col_info_df = pd.DataFrame(data).set_index('row_name')\n",
    "cat_col_info_df"
   ]
  },
  {
   "attachments": {},
   "cell_type": "markdown",
   "metadata": {},
   "source": [
    "## C. Khám phá mối quan hệ trong dữ liệu"
   ]
  },
  {
   "attachments": {},
   "cell_type": "markdown",
   "metadata": {},
   "source": [
    "### 1. Stacked Bar Chart"
   ]
  },
  {
   "attachments": {},
   "cell_type": "markdown",
   "metadata": {},
   "source": [
    "#### 1.1 Lí do chọn biểu đồ\n",
    "- Stacked Bar Chart là một loại biểu đồ cột (Bar Chart) thể hiện các giá trị của các biến được xếp chồng lên nhau để tạo thành một cột tổng. Các giá trị của từng biến thường được màu sắc khác nhau để dễ phân biệt.\n",
    "\n",
    "- Đối với loại biểu đồ này, và dựa vào bảng dữ liệu, nhóm quyết định trực quan để trực quan hóa tỉ lệ số người sống sót và tỉ lệ số người thiệt mạng trong các vụ tai nạn hàng không theo khoảng thời gian 20 năm.\n",
    "\n",
    "- Lý Do: Nhóm chọn loại biểu đồ này để trực quan vì Stacked bar chart là một loại biểu đồ thích hợp để so sánh tỷ lệ của các thành phần khác nhau trong một tập dữ liệu, và trong trường hợp này, nó thể hiện tỷ lệ số người sống sót và tỷ lệ số người thiệt mạng trong các vụ tai nạn hàng không trong các khoảng thời gian khác nhau."
   ]
  },
  {
   "attachments": {},
   "cell_type": "markdown",
   "metadata": {},
   "source": [
    "#### 1.2 Code\n"
   ]
  },
  {
   "cell_type": "code",
   "execution_count": 56,
   "metadata": {},
   "outputs": [
    {
     "data": {
      "image/png": "[encoded data removed]",
      "text/plain": [
       "<Figure size 1000x600 with 1 Axes>"
      ]
     },
     "metadata": {},
     "output_type": "display_data"
    }
   ],
   "source": [
    "# Convert Date column to datetime type\n",
    "df['Date'] = pd.to_datetime(df['Date'])\n",
    "\n",
    "# Create a new column representing each 20-year interval\n",
    "df['20-year interval'] = pd.cut(df['Date'].dt.year, bins=range(1900, 2021, 20), right=False)\n",
    "\n",
    "# Calculate survival rate and death rate by the 20-year interval\n",
    "grouped_df = df.groupby('20-year interval').agg({'Aboard': 'sum', 'Fatalities': 'sum'})\n",
    "grouped_df['Survival rate'] = 1 - grouped_df['Fatalities'] / grouped_df['Aboard']\n",
    "grouped_df['Death rate'] = grouped_df['Fatalities'] / grouped_df['Aboard']\n",
    "\n",
    "# Create a bar chart with color-coded bars for survival rate and death rate\n",
    "ax = grouped_df[['Survival rate', 'Death rate']].plot(kind='bar', stacked=True, color=['limegreen', 'red'], figsize=(10, 6))\n",
    "plt.xlabel('20-year interval')\n",
    "plt.ylabel('Rate')\n",
    "plt.title('Survival and death rates of airplane crashes by 20-year interval')\n",
    "\n",
    "# Add a legend\n",
    "handles, labels = ax.get_legend_handles_labels()\n",
    "ax.legend(reversed(handles), reversed(labels), loc='upper left')\n",
    "\n",
    "# Show the plot\n",
    "plt.show()"
   ]
  },
  {
   "attachments": {},
   "cell_type": "markdown",
   "metadata": {},
   "source": [
    "#### 1.3 Ý nghĩa của màu sắc\n",
    "- Nhóm chúng em sử dụng màu xanh lá cây để biểu thị tỉ lệ số người sống sót sau tai nạn máy bay (tỷ lệ số người sống sót / số người tham gia chuyến bay), và sử dụng màu đỏ để biểu thị tỉ lệ số người thiệt mạng (tỷ lệ số người thiệt mạng / số người tham gia chuyến bay). Với màu xanh lá cây biểu thị cho sự sống sót và màu đỏ biểu thị cho cái chết, màu sắc trở thành một yếu tố hữu ích giúp người đọc nhanh chóng nhận ra và phân biệt các giá trị khác nhau trong biểu đồ.\n",
    "\n",
    "- Màu xanh lá cây và đỏ là hai màu sắc tương phản mạnh, đây là lý do tại sao chúng được sử dụng để biểu thị cho hai giá trị tương phản nhau (tỷ lệ số người sống sót và tỷ lệ số người thiệt mạng). Khi đặt chúng cạnh nhau, hai màu sắc này dễ nhìn và dễ phân biệt, vì vậy chúng được sử dụng để tăng tính tương phản và tạo ra một hiệu ứng mạnh mẽ trong biểu đồ.\n",
    "\n",
    "- Sau khi bổ sung màu vào biểu đồ, chúng ta cũng có thể rút ra thêm ý nghĩa về tỉ lệ số người sống sót và số người thiệt mạng qua các thập kỷ. Ví dụ, chúng ta có thể thấy rằng tỉ lệ sống sót tăng đáng kể từ thập kỷ 1940 đến thập kỷ 1960, và sau đó giảm trở lại trong những năm sau đó. Chúng ta cũng có thể thấy rằng tỉ lệ sống sót đã tăng đáng kể kể từ thập kỷ 2000. Các nhận xét này có thể giúp chúng ta hiểu hơn về sự thay đổi của an toàn hàng không qua các thập kỷ và điều gì có thể đã dẫn đến sự thay đổi đó."
   ]
  },
  {
   "attachments": {},
   "cell_type": "markdown",
   "metadata": {},
   "source": [
    "#### 1.4 Kĩ thuật\n",
    "- Đồ thị trên đã sử dụng kĩ thuật Item Aggregation để tính toán tỷ lệ sống sót và tỷ lệ tử vong của các vụ tai nạn máy bay theo khoảng thời gian 20 năm.\n",
    "\n",
    "- Việc tính toán tỉ lệ này giúp trình bày dữ liệu một cách trực quan và dễ hiểu hơn, cũng như giúp nhận ra xu hướng và biến động của số liệu theo thời gian. Đồng thời, việc trình bày dữ liệu bằng cách sử dụng biểu đồ cột màu sắc khác nhau cho từng chỉ số giúp phân biệt dễ dàng hơn giữa các chỉ số và đưa ra những nhận định có tính thực tiễn."
   ]
  },
  {
   "attachments": {},
   "cell_type": "markdown",
   "metadata": {},
   "source": [
    "#### 1.5 Nhận xét\n",
    "- Tỷ lệ sống sót trong các vụ tai nạn hàng không tăng dần theo thời gian, trong khi tỷ lệ tử vong giảm dần. Điều này có thể phản ánh sự cải thiện của công nghệ hàng không, điều kiện an toàn và quy trình đào tạo phi công.\n",
    "\n",
    "- Tỷ lệ sống sót và tử vong có sự khác biệt rõ rệt giữa các giai đoạn 20 năm. Trong giai đoạn 1900-1919, tỷ lệ tử vong rất cao, tuy nhiên từ giai đoạn 1940-1959 trở đi, tỷ lệ sống sót bắt đầu tăng và tỷ lệ tử vong giảm.\n",
    "\n",
    "- Biểu đồ cũng cho thấy tỷ lệ sống sót và tử vong của các vụ tai nạn hàng không có sự thay đổi đáng kể sau các sự kiện lớn như Thế chiến thứ II, sự kiện 11/9, v.v."
   ]
  },
  {
   "attachments": {},
   "cell_type": "markdown",
   "metadata": {},
   "source": [
    "### 2. Stacked Area Chart"
   ]
  },
  {
   "attachments": {},
   "cell_type": "markdown",
   "metadata": {},
   "source": [
    "#### 2.1 Lí do chọn biểu đồ\n",
    "- Stacked Area Chart là một biểu đồ dạng khu vực, trong đó các khu vực được chồng lên nhau để tạo thành một khu vực lớn thể hiện sự thay đổi của các giá trị con thành phần (hoặc tỷ lệ phần trăm) qua thời gian. Mỗi khu vực trong Stacked Area Chart đại diện cho một phần của tổng giá trị được thể hiện. Khi nhìn vào biểu đồ, ta có thể thấy rõ được sự phân phối của giá trị của từng phần thành phần qua thời gian.\n",
    "\n",
    "- Đối với loại biểu đồ này, nhóm quyết định sử dụng biểu đồ để trực quan hóa số lượng vụ tai nạn máy bay có hoặc không có thương vong theo thời gian. Nó cho thấy rõ ràng sự tăng giảm của số lượng vụ tai nạn máy bay trong mỗi năm và trong đó có bao nhiêu vụ có thương vong và bao nhiêu vụ không có thương vong. Biểu đồ này có thể giúp phân tích sự an toàn của ngành hàng không qua các năm và có thể hỗ trợ các quyết định chính sách và cải tiến trong lĩnh vực hàng không.\n",
    "\n",
    "- Lý Do: Nhóm chọn loại biểu đồ này để trực quan vì Stacked Area Chart sẽ giúp chúng ta thấy rõ sự thay đổi của số liệu này qua các năm và cũng giúp phân tích được mức độ nghiêm trọng của các vụ tai nạn qua các năm. Ngoài ra, biểu đồ này cũng cho phép so sánh số lượng tai nạn có tử vong với số lượng tai nạn không có tử vong trong cùng một biểu đồ."
   ]
  },
  {
   "attachments": {},
   "cell_type": "markdown",
   "metadata": {},
   "source": [
    "#### 2.2 Code"
   ]
  },
  {
   "cell_type": "code",
   "execution_count": 57,
   "metadata": {},
   "outputs": [
    {
     "data": {
      "application/vnd.plotly.v1+json": {
       "config": {
        "plotlyServerURL": "https://plot.ly"
       },
       "data": [
        {
         "line": {
          "color": "#2CA02C"
         },
         "name": "No fatalities",
         "type": "scatter",
         "uid": "707eda2f-3156-4284-a019-ff30b237ac47",
         "x": [
          1908,
          1912,
          1913,
          1915,
          1916,
          1917,
          1918,
          1919,
          1920,
          1921,
          1922,
          1923,
          1924,
          1925,
          1926,
          1927,
          1928,
          1929,
          1930,
          1931,
          1932,
          1933,
          1934,
          1935,
          1936,
          1937,
          1938,
          1939,
          1940,
          1941,
          1942,
          1943,
          1944,
          1945,
          1946,
          1947,
          1948,
          1949,
          1950,
          1951,
          1952,
          1953,
          1954,
          1955,
          1956,
          1957,
          1958,
          1959,
          1960,
          1961,
          1962,
          1963,
          1964,
          1965,
          1966,
          1967,
          1968,
          1969,
          1970,
          1971,
          1972,
          1973,
          1974,
          1975,
          1976,
          1977,
          1978,
          1979,
          1980,
          1981,
          1982,
          1983,
          1984,
          1985,
          1986,
          1987,
          1988,
          1989,
          1990,
          1991,
          1992,
          1993,
          1994,
          1995,
          1996,
          1997,
          1998,
          1999,
          2000,
          2001,
          2002,
          2003,
          2004,
          2005,
          2006,
          2007,
          2008,
          2009
         ],
         "y": [
          0,
          0,
          0,
          0,
          0,
          0,
          0,
          0,
          0,
          0,
          0,
          0,
          0,
          0,
          1,
          0,
          0,
          0,
          0,
          0,
          0,
          0,
          0,
          0,
          1,
          0,
          0,
          0,
          0,
          0,
          0,
          0,
          0,
          0,
          0,
          2,
          0,
          0,
          0,
          0,
          0,
          1,
          0,
          1,
          2,
          0,
          0,
          1,
          0,
          0,
          0,
          3,
          1,
          2,
          1,
          0,
          2,
          1,
          0,
          1,
          1,
          0,
          0,
          1,
          0,
          0,
          0,
          1,
          0,
          1,
          2,
          2,
          1,
          2,
          1,
          0,
          1,
          0,
          2,
          1,
          1,
          2,
          3,
          1,
          0,
          0,
          3,
          0,
          2,
          1,
          1,
          0,
          0,
          2,
          0,
          2,
          3,
          1
         ]
        },
        {
         "line": {
          "color": "#D62728"
         },
         "name": "Has fatalities",
         "type": "scatter",
         "uid": "fa1e1f69-084a-4831-8ae5-6a04e13942b7",
         "x": [
          1908,
          1912,
          1913,
          1915,
          1916,
          1917,
          1918,
          1919,
          1920,
          1921,
          1922,
          1923,
          1924,
          1925,
          1926,
          1927,
          1928,
          1929,
          1930,
          1931,
          1932,
          1933,
          1934,
          1935,
          1936,
          1937,
          1938,
          1939,
          1940,
          1941,
          1942,
          1943,
          1944,
          1945,
          1946,
          1947,
          1948,
          1949,
          1950,
          1951,
          1952,
          1953,
          1954,
          1955,
          1956,
          1957,
          1958,
          1959,
          1960,
          1961,
          1962,
          1963,
          1964,
          1965,
          1966,
          1967,
          1968,
          1969,
          1970,
          1971,
          1972,
          1973,
          1974,
          1975,
          1976,
          1977,
          1978,
          1979,
          1980,
          1981,
          1982,
          1983,
          1984,
          1985,
          1986,
          1987,
          1988,
          1989,
          1990,
          1991,
          1992,
          1993,
          1994,
          1995,
          1996,
          1997,
          1998,
          1999,
          2000,
          2001,
          2002,
          2003,
          2004,
          2005,
          2006,
          2007,
          2008,
          2009
         ],
         "y": [
          1,
          1,
          3,
          2,
          5,
          6,
          4,
          5,
          17,
          13,
          11,
          12,
          7,
          11,
          11,
          21,
          37,
          37,
          23,
          32,
          28,
          24,
          29,
          34,
          41,
          27,
          51,
          24,
          17,
          21,
          27,
          39,
          45,
          69,
          78,
          74,
          68,
          60,
          63,
          69,
          59,
          61,
          59,
          51,
          49,
          56,
          62,
          59,
          62,
          52,
          72,
          55,
          68,
          67,
          68,
          91,
          94,
          81,
          87,
          66,
          103,
          89,
          82,
          74,
          86,
          80,
          77,
          88,
          65,
          64,
          67,
          59,
          64,
          72,
          63,
          74,
          82,
          94,
          70,
          87,
          84,
          65,
          84,
          78,
          81,
          68,
          66,
          78,
          72,
          69,
          74,
          61,
          61,
          49,
          49,
          52,
          59,
          22
         ]
        }
       ],
       "layout": {
        "legend": {
         "x": 0.05,
         "y": 1
        },
        "margin": {
         "b": 50,
         "l": 50,
         "r": 50,
         "t": 50
        },
        "template": {
         "data": {
          "bar": [
           {
            "error_x": {
             "color": "#2a3f5f"
            },
            "error_y": {
             "color": "#2a3f5f"
            },
            "marker": {
             "line": {
              "color": "#E5ECF6",
              "width": 0.5
             },
             "pattern": {
              "fillmode": "overlay",
              "size": 10,
              "solidity": 0.2
             }
            },
            "type": "bar"
           }
          ],
          "barpolar": [
           {
            "marker": {
             "line": {
              "color": "#E5ECF6",
              "width": 0.5
             },
             "pattern": {
              "fillmode": "overlay",
              "size": 10,
              "solidity": 0.2
             }
            },
            "type": "barpolar"
           }
          ],
          "carpet": [
           {
            "aaxis": {
             "endlinecolor": "#2a3f5f",
             "gridcolor": "white",
             "linecolor": "white",
             "minorgridcolor": "white",
             "startlinecolor": "#2a3f5f"
            },
            "baxis": {
             "endlinecolor": "#2a3f5f",
             "gridcolor": "white",
             "linecolor": "white",
             "minorgridcolor": "white",
             "startlinecolor": "#2a3f5f"
            },
            "type": "carpet"
           }
          ],
          "choropleth": [
           {
            "colorbar": {
             "outlinewidth": 0,
             "ticks": ""
            },
            "type": "choropleth"
           }
          ],
          "contour": [
           {
            "colorbar": {
             "outlinewidth": 0,
             "ticks": ""
            },
            "colorscale": [
             [
              0,
              "#0d0887"
             ],
             [
              0.1111111111111111,
              "#46039f"
             ],
             [
              0.2222222222222222,
              "#7201a8"
             ],
             [
              0.3333333333333333,
              "#9c179e"
             ],
             [
              0.4444444444444444,
              "#bd3786"
             ],
             [
              0.5555555555555556,
              "#d8576b"
             ],
             [
              0.6666666666666666,
              "#ed7953"
             ],
             [
              0.7777777777777778,
              "#fb9f3a"
             ],
             [
              0.8888888888888888,
              "#fdca26"
             ],
             [
              1,
              "#f0f921"
             ]
            ],
            "type": "contour"
           }
          ],
          "contourcarpet": [
           {
            "colorbar": {
             "outlinewidth": 0,
             "ticks": ""
            },
            "type": "contourcarpet"
           }
          ],
          "heatmap": [
           {
            "colorbar": {
             "outlinewidth": 0,
             "ticks": ""
            },
            "colorscale": [
             [
              0,
              "#0d0887"
             ],
             [
              0.1111111111111111,
              "#46039f"
             ],
             [
              0.2222222222222222,
              "#7201a8"
             ],
             [
              0.3333333333333333,
              "#9c179e"
             ],
             [
              0.4444444444444444,
              "#bd3786"
             ],
             [
              0.5555555555555556,
              "#d8576b"
             ],
             [
              0.6666666666666666,
              "#ed7953"
             ],
             [
              0.7777777777777778,
              "#fb9f3a"
             ],
             [
              0.8888888888888888,
              "#fdca26"
             ],
             [
              1,
              "#f0f921"
             ]
            ],
            "type": "heatmap"
           }
          ],
          "heatmapgl": [
           {
            "colorbar": {
             "outlinewidth": 0,
             "ticks": ""
            },
            "colorscale": [
             [
              0,
              "#0d0887"
             ],
             [
              0.1111111111111111,
              "#46039f"
             ],
             [
              0.2222222222222222,
              "#7201a8"
             ],
             [
              0.3333333333333333,
              "#9c179e"
             ],
             [
              0.4444444444444444,
              "#bd3786"
             ],
             [
              0.5555555555555556,
              "#d8576b"
             ],
             [
              0.6666666666666666,
              "#ed7953"
             ],
             [
              0.7777777777777778,
              "#fb9f3a"
             ],
             [
              0.8888888888888888,
              "#fdca26"
             ],
             [
              1,
              "#f0f921"
             ]
            ],
            "type": "heatmapgl"
           }
          ],
          "histogram": [
           {
            "marker": {
             "pattern": {
              "fillmode": "overlay",
              "size": 10,
              "solidity": 0.2
             }
            },
            "type": "histogram"
           }
          ],
          "histogram2d": [
           {
            "colorbar": {
             "outlinewidth": 0,
             "ticks": ""
            },
            "colorscale": [
             [
              0,
              "#0d0887"
             ],
             [
              0.1111111111111111,
              "#46039f"
             ],
             [
              0.2222222222222222,
              "#7201a8"
             ],
             [
              0.3333333333333333,
              "#9c179e"
             ],
             [
              0.4444444444444444,
              "#bd3786"
             ],
             [
              0.5555555555555556,
              "#d8576b"
             ],
             [
              0.6666666666666666,
              "#ed7953"
             ],
             [
              0.7777777777777778,
              "#fb9f3a"
             ],
             [
              0.8888888888888888,
              "#fdca26"
             ],
             [
              1,
              "#f0f921"
             ]
            ],
            "type": "histogram2d"
           }
          ],
          "histogram2dcontour": [
           {
            "colorbar": {
             "outlinewidth": 0,
             "ticks": ""
            },
            "colorscale": [
             [
              0,
              "#0d0887"
             ],
             [
              0.1111111111111111,
              "#46039f"
             ],
             [
              0.2222222222222222,
              "#7201a8"
             ],
             [
              0.3333333333333333,
              "#9c179e"
             ],
             [
              0.4444444444444444,
              "#bd3786"
             ],
             [
              0.5555555555555556,
              "#d8576b"
             ],
             [
              0.6666666666666666,
              "#ed7953"
             ],
             [
              0.7777777777777778,
              "#fb9f3a"
             ],
             [
              0.8888888888888888,
              "#fdca26"
             ],
             [
              1,
              "#f0f921"
             ]
            ],
            "type": "histogram2dcontour"
           }
          ],
          "mesh3d": [
           {
            "colorbar": {
             "outlinewidth": 0,
             "ticks": ""
            },
            "type": "mesh3d"
           }
          ],
          "parcoords": [
           {
            "line": {
             "colorbar": {
              "outlinewidth": 0,
              "ticks": ""
             }
            },
            "type": "parcoords"
           }
          ],
          "pie": [
           {
            "automargin": true,
            "type": "pie"
           }
          ],
          "scatter": [
           {
            "fillpattern": {
             "fillmode": "overlay",
             "size": 10,
             "solidity": 0.2
            },
            "type": "scatter"
           }
          ],
          "scatter3d": [
           {
            "line": {
             "colorbar": {
              "outlinewidth": 0,
              "ticks": ""
             }
            },
            "marker": {
             "colorbar": {
              "outlinewidth": 0,
              "ticks": ""
             }
            },
            "type": "scatter3d"
           }
          ],
          "scattercarpet": [
           {
            "marker": {
             "colorbar": {
              "outlinewidth": 0,
              "ticks": ""
             }
            },
            "type": "scattercarpet"
           }
          ],
          "scattergeo": [
           {
            "marker": {
             "colorbar": {
              "outlinewidth": 0,
              "ticks": ""
             }
            },
            "type": "scattergeo"
           }
          ],
          "scattergl": [
           {
            "marker": {
             "colorbar": {
              "outlinewidth": 0,
              "ticks": ""
             }
            },
            "type": "scattergl"
           }
          ],
          "scattermapbox": [
           {
            "marker": {
             "colorbar": {
              "outlinewidth": 0,
              "ticks": ""
             }
            },
            "type": "scattermapbox"
           }
          ],
          "scatterpolar": [
           {
            "marker": {
             "colorbar": {
              "outlinewidth": 0,
              "ticks": ""
             }
            },
            "type": "scatterpolar"
           }
          ],
          "scatterpolargl": [
           {
            "marker": {
             "colorbar": {
              "outlinewidth": 0,
              "ticks": ""
             }
            },
            "type": "scatterpolargl"
           }
          ],
          "scatterternary": [
           {
            "marker": {
             "colorbar": {
              "outlinewidth": 0,
              "ticks": ""
             }
            },
            "type": "scatterternary"
           }
          ],
          "surface": [
           {
            "colorbar": {
             "outlinewidth": 0,
             "ticks": ""
            },
            "colorscale": [
             [
              0,
              "#0d0887"
             ],
             [
              0.1111111111111111,
              "#46039f"
             ],
             [
              0.2222222222222222,
              "#7201a8"
             ],
             [
              0.3333333333333333,
              "#9c179e"
             ],
             [
              0.4444444444444444,
              "#bd3786"
             ],
             [
              0.5555555555555556,
              "#d8576b"
             ],
             [
              0.6666666666666666,
              "#ed7953"
             ],
             [
              0.7777777777777778,
              "#fb9f3a"
             ],
             [
              0.8888888888888888,
              "#fdca26"
             ],
             [
              1,
              "#f0f921"
             ]
            ],
            "type": "surface"
           }
          ],
          "table": [
           {
            "cells": {
             "fill": {
              "color": "#EBF0F8"
             },
             "line": {
              "color": "white"
             }
            },
            "header": {
             "fill": {
              "color": "#C8D4E3"
             },
             "line": {
              "color": "white"
             }
            },
            "type": "table"
           }
          ]
         },
         "layout": {
          "annotationdefaults": {
           "arrowcolor": "#2a3f5f",
           "arrowhead": 0,
           "arrowwidth": 1
          },
          "autotypenumbers": "strict",
          "coloraxis": {
           "colorbar": {
            "outlinewidth": 0,
            "ticks": ""
           }
          },
          "colorscale": {
           "diverging": [
            [
             0,
             "#8e0152"
            ],
            [
             0.1,
             "#c51b7d"
            ],
            [
             0.2,
             "#de77ae"
            ],
            [
             0.3,
             "#f1b6da"
            ],
            [
             0.4,
             "#fde0ef"
            ],
            [
             0.5,
             "#f7f7f7"
            ],
            [
             0.6,
             "#e6f5d0"
            ],
            [
             0.7,
             "#b8e186"
            ],
            [
             0.8,
             "#7fbc41"
            ],
            [
             0.9,
             "#4d9221"
            ],
            [
             1,
             "#276419"
            ]
           ],
           "sequential": [
            [
             0,
             "#0d0887"
            ],
            [
             0.1111111111111111,
             "#46039f"
            ],
            [
             0.2222222222222222,
             "#7201a8"
            ],
            [
             0.3333333333333333,
             "#9c179e"
            ],
            [
             0.4444444444444444,
             "#bd3786"
            ],
            [
             0.5555555555555556,
             "#d8576b"
            ],
            [
             0.6666666666666666,
             "#ed7953"
            ],
            [
             0.7777777777777778,
             "#fb9f3a"
            ],
            [
             0.8888888888888888,
             "#fdca26"
            ],
            [
             1,
             "#f0f921"
            ]
           ],
           "sequentialminus": [
            [
             0,
             "#0d0887"
            ],
            [
             0.1111111111111111,
             "#46039f"
            ],
            [
             0.2222222222222222,
             "#7201a8"
            ],
            [
             0.3333333333333333,
             "#9c179e"
            ],
            [
             0.4444444444444444,
             "#bd3786"
            ],
            [
             0.5555555555555556,
             "#d8576b"
            ],
            [
             0.6666666666666666,
             "#ed7953"
            ],
            [
             0.7777777777777778,
             "#fb9f3a"
            ],
            [
             0.8888888888888888,
             "#fdca26"
            ],
            [
             1,
             "#f0f921"
            ]
           ]
          },
          "colorway": [
           "#636efa",
           "#EF553B",
           "#00cc96",
           "#ab63fa",
           "#FFA15A",
           "#19d3f3",
           "#FF6692",
           "#B6E880",
           "#FF97FF",
           "#FECB52"
          ],
          "font": {
           "color": "#2a3f5f"
          },
          "geo": {
           "bgcolor": "white",
           "lakecolor": "white",
           "landcolor": "#E5ECF6",
           "showlakes": true,
           "showland": true,
           "subunitcolor": "white"
          },
          "hoverlabel": {
           "align": "left"
          },
          "hovermode": "closest",
          "mapbox": {
           "style": "light"
          },
          "paper_bgcolor": "white",
          "plot_bgcolor": "#E5ECF6",
          "polar": {
           "angularaxis": {
            "gridcolor": "white",
            "linecolor": "white",
            "ticks": ""
           },
           "bgcolor": "#E5ECF6",
           "radialaxis": {
            "gridcolor": "white",
            "linecolor": "white",
            "ticks": ""
           }
          },
          "scene": {
           "xaxis": {
            "backgroundcolor": "#E5ECF6",
            "gridcolor": "white",
            "gridwidth": 2,
            "linecolor": "white",
            "showbackground": true,
            "ticks": "",
            "zerolinecolor": "white"
           },
           "yaxis": {
            "backgroundcolor": "#E5ECF6",
            "gridcolor": "white",
            "gridwidth": 2,
            "linecolor": "white",
            "showbackground": true,
            "ticks": "",
            "zerolinecolor": "white"
           },
           "zaxis": {
            "backgroundcolor": "#E5ECF6",
            "gridcolor": "white",
            "gridwidth": 2,
            "linecolor": "white",
            "showbackground": true,
            "ticks": "",
            "zerolinecolor": "white"
           }
          },
          "shapedefaults": {
           "line": {
            "color": "#2a3f5f"
           }
          },
          "ternary": {
           "aaxis": {
            "gridcolor": "white",
            "linecolor": "white",
            "ticks": ""
           },
           "baxis": {
            "gridcolor": "white",
            "linecolor": "white",
            "ticks": ""
           },
           "bgcolor": "#E5ECF6",
           "caxis": {
            "gridcolor": "white",
            "linecolor": "white",
            "ticks": ""
           }
          },
          "title": {
           "x": 0.05
          },
          "xaxis": {
           "automargin": true,
           "gridcolor": "white",
           "linecolor": "white",
           "ticks": "",
           "title": {
            "standoff": 15
           },
           "zerolinecolor": "white",
           "zerolinewidth": 2
          },
          "yaxis": {
           "automargin": true,
           "gridcolor": "white",
           "linecolor": "white",
           "ticks": "",
           "title": {
            "standoff": 15
           },
           "zerolinecolor": "white",
           "zerolinewidth": 2
          }
         }
        },
        "title": {
         "text": "Number of airplane crashes with/without fatalities over time"
        },
        "xaxis": {
         "range": [
          1900,
          2020
         ],
         "rangeselector": {
          "buttons": [
           {
            "count": 10,
            "label": "10 years",
            "step": "year",
            "stepmode": "backward"
           },
           {
            "count": 25,
            "label": "25 years",
            "step": "year",
            "stepmode": "backward"
           },
           {
            "count": 50,
            "label": "50 years",
            "step": "year",
            "stepmode": "backward"
           },
           {
            "step": "all"
           }
          ]
         },
         "rangeslider": {
          "visible": true
         },
         "title": {
          "text": "Year"
         },
         "type": "date"
        },
        "yaxis": {
         "title": {
          "text": "Number of crashes"
         }
        }
       }
      }
     },
     "metadata": {},
     "output_type": "display_data"
    }
   ],
   "source": [
    "# Convert Date column to datetime type\n",
    "df['Date'] = pd.to_datetime(df['Date'])\n",
    "\n",
    "# Group by year and calculate number of crashes with/without fatalities\n",
    "new_df = df.groupby([df[\"Date\"].dt.year, df[\"Fatalities\"] > 0])[\"Date\"].count().unstack()\n",
    "new_df.fillna(0, inplace=True)\n",
    "new_df.columns = [\"No fatalities\", \"Has fatalities\"]\n",
    "\n",
    "# Create a trace for each column of the new_df dataframe\n",
    "traces = []\n",
    "colors = ['#2CA02C', '#D62728']\n",
    "for i, column in enumerate(new_df.columns):\n",
    "    trace = go.Scatter(x=new_df.index, y=new_df[column], name=column, line=dict(color=colors[i]))\n",
    "    traces.append(trace)\n",
    "\n",
    "# Create a layout with a Manipulate View option for the x-axis range\n",
    "layout = go.Layout(title=\"Number of airplane crashes with/without fatalities over time\",\n",
    "                   xaxis=dict(title=\"Year\", range=[1900, 2020], type=\"date\",\n",
    "                              rangeselector=dict(buttons=list([\n",
    "                                  dict(count=10, label='10 years', step='year', stepmode='backward'),\n",
    "                                  dict(count=25, label='25 years', step='year', stepmode='backward'),\n",
    "                                  dict(count=50, label='50 years', step='year', stepmode='backward'),\n",
    "                                  dict(step='all')\n",
    "                              ])),\n",
    "                              rangeslider=dict(visible=True)\n",
    "                             ),\n",
    "                   yaxis=dict(title=\"Number of crashes\"),\n",
    "                   margin=dict(l=50, r=50, b=50, t=50),\n",
    "                   legend=dict(x=0.05, y=1))\n",
    "\n",
    "# Create a figure with the traces and layout, and display it as a widget\n",
    "fig = go.FigureWidget(data=traces, layout=layout)\n",
    "fig.show()\n",
    "\n"
   ]
  },
  {
   "attachments": {},
   "cell_type": "markdown",
   "metadata": {},
   "source": [
    "#### 2.3 Ý nghĩa của màu sắc\n",
    "- Trong biểu đồ trên, màu xanh lá cây được sử dụng để đại diện cho số lượng tai nạn máy bay không gây tử vong, và màu đỏ được sử dụng để đại diện cho số lượng tai nạn máy bay gây tử vong. Đây là cách phân biệt hai loại dữ liệu trong biểu đồ.\n",
    "\n",
    "- Màu xanh lá cây và màu đỏ được sử dụng trong biểu đồ này là hai màu phổ biến được sử dụng để biểu thị hai loại dữ liệu đối lập trong các biểu đồ. Màu xanh lá cây thường được sử dụng để biểu thị những giá trị tích cực hoặc những kết quả tốt, trong khi màu đỏ thường được sử dụng để biểu thị các giá trị tiêu cực hoặc các giá trị mà có tác động tiêu cực.\n",
    "\n",
    "- Việc sử dụng màu xanh lá cây và màu đỏ trong biểu đồ này giúp người đọc dễ dàng nhận ra sự khác biệt giữa số lượng tai nạn máy bay không gây tử vong và số lượng tai nạn máy bay gây tử vong, từ đó giúp phân tích và đưa ra các quyết định có liên quan đến an toàn bay."
   ]
  },
  {
   "attachments": {},
   "cell_type": "markdown",
   "metadata": {},
   "source": [
    "#### 2.4 Kĩ thuật\n",
    "- Nhóm chúng em đã sử dụng kĩ thuật Manipulate View để tạo ra một nút trượt để điều chỉnh dải giá trị của trục x. Khi chúng ta di chuyển nút trượt này, đồ thị sẽ tự động cập nhật để hiển thị dữ liệu ứng với dải giá trị được chọn.\n",
    "\n",
    "- Điều này giúp người dùng có thể dễ dàng trực quan hóa dữ liệu trong khoảng thời gian mong muốn mà không cần phải thay đổi mã lệnh. Điều này đặc biệt hữu ích khi dữ liệu có số lượng lớn và khó để hiển thị toàn bộ trên một đồ thị duy nhất.\n",
    "\n",
    "- Ví dụ, trong trường hợp của nhóm chúng em, dữ liệu của nhóm chúng em bao gồm số lượng tai nạn máy bay từ năm 1908 đến năm 2009. Với kĩ thuật Manipulate View, người dùng có thể tập trung vào các năm cụ thể mà họ quan tâm, chẳng hạn như những năm gần đây để kiểm tra tình trạng an toàn của việc bay hiện tại.\n",
    "\n",
    "- Do đó, việc sử dụng kĩ thuật Manipulate View mang lại cho nhóm chúng em một cách tiếp cận trực quan và dễ dàng để khám phá dữ liệu và phân tích nó."
   ]
  },
  {
   "attachments": {},
   "cell_type": "markdown",
   "metadata": {},
   "source": [
    "#### 2.5 Nhận xét\n",
    "- Số lượng tai nạn máy bay có thương vong có xu hướng tăng dần từ năm 1920 đến năm 1945, sau đó thì số vụ tai nạn có thương vong biến động lên xuống liên tục.\n",
    "\n",
    "- Số lượng vụ tai nạn máy bay không có thương vong có xu hướng ổn định từ 1920-2009.\n",
    "\n",
    "- Trong số các tai nạn máy bay, đa số vụ tai nạn đều có người tử vong, số lượng vụ tai nạn không có thương vong chiếm số lượng rất ít.\n",
    "\n",
    "- Có một số năm đặc biệt có số lượng tai nạn máy bay có thương vong cao hơn so với các năm khác, ví dụ như những năm 1946, 1972, 1973 và 1989."
   ]
  },
  {
   "attachments": {},
   "cell_type": "markdown",
   "metadata": {},
   "source": [
    "### 3. Line Chart"
   ]
  },
  {
   "attachments": {},
   "cell_type": "markdown",
   "metadata": {},
   "source": [
    "#### 3.1 Lí do chọn biểu đồ\n",
    "- Biểu đồ line chart là một dạng biểu đồ thường được sử dụng để trình bày mối quan hệ giữa các điểm dữ liệu liên tục trong thời gian hoặc trong không gian. Nó thường được sử dụng để trình bày xu hướng hoặc biến động của các dữ liệu trong thời gian, và cho phép người xem dễ dàng nhận thấy các biến đổi, đặc điểm, hoặc các sự kiện đặc biệt trong dữ liệu.\n",
    "\n",
    "- Nhóm chúng em quyết định dùng biểu đồ này để trực quan nhằm giúp hiểu được phân bố số lượng tai nạn theo giờ trong ngày, đồng thời so sánh số lượng tai nạn có/ không có thương vong. \n",
    "\n",
    "- Lý do: Nhóm chọn loại biểu đồ này để trực quan bởi vì nó rất thích hợp để trực quan hóa dữ liệu thời gian. Biểu đồ line chart có thể thể hiện rõ ràng sự thay đổi của dữ liệu theo thời gian, giúp cho người đọc có thể dễ dàng nhận ra xu hướng và sự biến động của dữ liệu"
   ]
  },
  {
   "attachments": {},
   "cell_type": "markdown",
   "metadata": {},
   "source": [
    "#### 3.2 Code"
   ]
  },
  {
   "cell_type": "code",
   "execution_count": 58,
   "metadata": {},
   "outputs": [
    {
     "data": {
      "application/vnd.plotly.v1+json": {
       "config": {
        "plotlyServerURL": "https://plot.ly"
       },
       "data": [
        {
         "line": {
          "color": "#2ca02c"
         },
         "name": "No fatalities",
         "type": "scatter",
         "x": [
          0,
          1,
          2,
          3,
          4,
          5,
          6,
          7,
          8,
          9,
          10,
          11,
          12,
          13,
          14,
          15,
          16,
          17,
          18,
          19,
          20,
          21,
          22,
          23
         ],
         "y": [
          7,
          1,
          1,
          1,
          0,
          1,
          1,
          3,
          2,
          1,
          3,
          3,
          7,
          3,
          3,
          3,
          6,
          2,
          3,
          4,
          1,
          1,
          0,
          1
         ]
        },
        {
         "line": {
          "color": "#d62728"
         },
         "name": "Has fatalities",
         "type": "scatter",
         "x": [
          0,
          1,
          2,
          3,
          4,
          5,
          6,
          7,
          8,
          9,
          10,
          11,
          12,
          13,
          14,
          15,
          16,
          17,
          18,
          19,
          20,
          21,
          22,
          23
         ],
         "y": [
          2250,
          66,
          78,
          48,
          65,
          59,
          84,
          129,
          139,
          185,
          164,
          167,
          158,
          154,
          165,
          168,
          151,
          154,
          143,
          177,
          153,
          107,
          104,
          110
         ]
        }
       ],
       "layout": {
        "legend": {
         "x": 0.05,
         "y": 1
        },
        "margin": {
         "b": 50,
         "l": 50,
         "r": 50,
         "t": 50
        },
        "template": {
         "data": {
          "bar": [
           {
            "error_x": {
             "color": "#2a3f5f"
            },
            "error_y": {
             "color": "#2a3f5f"
            },
            "marker": {
             "line": {
              "color": "#E5ECF6",
              "width": 0.5
             },
             "pattern": {
              "fillmode": "overlay",
              "size": 10,
              "solidity": 0.2
             }
            },
            "type": "bar"
           }
          ],
          "barpolar": [
           {
            "marker": {
             "line": {
              "color": "#E5ECF6",
              "width": 0.5
             },
             "pattern": {
              "fillmode": "overlay",
              "size": 10,
              "solidity": 0.2
             }
            },
            "type": "barpolar"
           }
          ],
          "carpet": [
           {
            "aaxis": {
             "endlinecolor": "#2a3f5f",
             "gridcolor": "white",
             "linecolor": "white",
             "minorgridcolor": "white",
             "startlinecolor": "#2a3f5f"
            },
            "baxis": {
             "endlinecolor": "#2a3f5f",
             "gridcolor": "white",
             "linecolor": "white",
             "minorgridcolor": "white",
             "startlinecolor": "#2a3f5f"
            },
            "type": "carpet"
           }
          ],
          "choropleth": [
           {
            "colorbar": {
             "outlinewidth": 0,
             "ticks": ""
            },
            "type": "choropleth"
           }
          ],
          "contour": [
           {
            "colorbar": {
             "outlinewidth": 0,
             "ticks": ""
            },
            "colorscale": [
             [
              0,
              "#0d0887"
             ],
             [
              0.1111111111111111,
              "#46039f"
             ],
             [
              0.2222222222222222,
              "#7201a8"
             ],
             [
              0.3333333333333333,
              "#9c179e"
             ],
             [
              0.4444444444444444,
              "#bd3786"
             ],
             [
              0.5555555555555556,
              "#d8576b"
             ],
             [
              0.6666666666666666,
              "#ed7953"
             ],
             [
              0.7777777777777778,
              "#fb9f3a"
             ],
             [
              0.8888888888888888,
              "#fdca26"
             ],
             [
              1,
              "#f0f921"
             ]
            ],
            "type": "contour"
           }
          ],
          "contourcarpet": [
           {
            "colorbar": {
             "outlinewidth": 0,
             "ticks": ""
            },
            "type": "contourcarpet"
           }
          ],
          "heatmap": [
           {
            "colorbar": {
             "outlinewidth": 0,
             "ticks": ""
            },
            "colorscale": [
             [
              0,
              "#0d0887"
             ],
             [
              0.1111111111111111,
              "#46039f"
             ],
             [
              0.2222222222222222,
              "#7201a8"
             ],
             [
              0.3333333333333333,
              "#9c179e"
             ],
             [
              0.4444444444444444,
              "#bd3786"
             ],
             [
              0.5555555555555556,
              "#d8576b"
             ],
             [
              0.6666666666666666,
              "#ed7953"
             ],
             [
              0.7777777777777778,
              "#fb9f3a"
             ],
             [
              0.8888888888888888,
              "#fdca26"
             ],
             [
              1,
              "#f0f921"
             ]
            ],
            "type": "heatmap"
           }
          ],
          "heatmapgl": [
           {
            "colorbar": {
             "outlinewidth": 0,
             "ticks": ""
            },
            "colorscale": [
             [
              0,
              "#0d0887"
             ],
             [
              0.1111111111111111,
              "#46039f"
             ],
             [
              0.2222222222222222,
              "#7201a8"
             ],
             [
              0.3333333333333333,
              "#9c179e"
             ],
             [
              0.4444444444444444,
              "#bd3786"
             ],
             [
              0.5555555555555556,
              "#d8576b"
             ],
             [
              0.6666666666666666,
              "#ed7953"
             ],
             [
              0.7777777777777778,
              "#fb9f3a"
             ],
             [
              0.8888888888888888,
              "#fdca26"
             ],
             [
              1,
              "#f0f921"
             ]
            ],
            "type": "heatmapgl"
           }
          ],
          "histogram": [
           {
            "marker": {
             "pattern": {
              "fillmode": "overlay",
              "size": 10,
              "solidity": 0.2
             }
            },
            "type": "histogram"
           }
          ],
          "histogram2d": [
           {
            "colorbar": {
             "outlinewidth": 0,
             "ticks": ""
            },
            "colorscale": [
             [
              0,
              "#0d0887"
             ],
             [
              0.1111111111111111,
              "#46039f"
             ],
             [
              0.2222222222222222,
              "#7201a8"
             ],
             [
              0.3333333333333333,
              "#9c179e"
             ],
             [
              0.4444444444444444,
              "#bd3786"
             ],
             [
              0.5555555555555556,
              "#d8576b"
             ],
             [
              0.6666666666666666,
              "#ed7953"
             ],
             [
              0.7777777777777778,
              "#fb9f3a"
             ],
             [
              0.8888888888888888,
              "#fdca26"
             ],
             [
              1,
              "#f0f921"
             ]
            ],
            "type": "histogram2d"
           }
          ],
          "histogram2dcontour": [
           {
            "colorbar": {
             "outlinewidth": 0,
             "ticks": ""
            },
            "colorscale": [
             [
              0,
              "#0d0887"
             ],
             [
              0.1111111111111111,
              "#46039f"
             ],
             [
              0.2222222222222222,
              "#7201a8"
             ],
             [
              0.3333333333333333,
              "#9c179e"
             ],
             [
              0.4444444444444444,
              "#bd3786"
             ],
             [
              0.5555555555555556,
              "#d8576b"
             ],
             [
              0.6666666666666666,
              "#ed7953"
             ],
             [
              0.7777777777777778,
              "#fb9f3a"
             ],
             [
              0.8888888888888888,
              "#fdca26"
             ],
             [
              1,
              "#f0f921"
             ]
            ],
            "type": "histogram2dcontour"
           }
          ],
          "mesh3d": [
           {
            "colorbar": {
             "outlinewidth": 0,
             "ticks": ""
            },
            "type": "mesh3d"
           }
          ],
          "parcoords": [
           {
            "line": {
             "colorbar": {
              "outlinewidth": 0,
              "ticks": ""
             }
            },
            "type": "parcoords"
           }
          ],
          "pie": [
           {
            "automargin": true,
            "type": "pie"
           }
          ],
          "scatter": [
           {
            "fillpattern": {
             "fillmode": "overlay",
             "size": 10,
             "solidity": 0.2
            },
            "type": "scatter"
           }
          ],
          "scatter3d": [
           {
            "line": {
             "colorbar": {
              "outlinewidth": 0,
              "ticks": ""
             }
            },
            "marker": {
             "colorbar": {
              "outlinewidth": 0,
              "ticks": ""
             }
            },
            "type": "scatter3d"
           }
          ],
          "scattercarpet": [
           {
            "marker": {
             "colorbar": {
              "outlinewidth": 0,
              "ticks": ""
             }
            },
            "type": "scattercarpet"
           }
          ],
          "scattergeo": [
           {
            "marker": {
             "colorbar": {
              "outlinewidth": 0,
              "ticks": ""
             }
            },
            "type": "scattergeo"
           }
          ],
          "scattergl": [
           {
            "marker": {
             "colorbar": {
              "outlinewidth": 0,
              "ticks": ""
             }
            },
            "type": "scattergl"
           }
          ],
          "scattermapbox": [
           {
            "marker": {
             "colorbar": {
              "outlinewidth": 0,
              "ticks": ""
             }
            },
            "type": "scattermapbox"
           }
          ],
          "scatterpolar": [
           {
            "marker": {
             "colorbar": {
              "outlinewidth": 0,
              "ticks": ""
             }
            },
            "type": "scatterpolar"
           }
          ],
          "scatterpolargl": [
           {
            "marker": {
             "colorbar": {
              "outlinewidth": 0,
              "ticks": ""
             }
            },
            "type": "scatterpolargl"
           }
          ],
          "scatterternary": [
           {
            "marker": {
             "colorbar": {
              "outlinewidth": 0,
              "ticks": ""
             }
            },
            "type": "scatterternary"
           }
          ],
          "surface": [
           {
            "colorbar": {
             "outlinewidth": 0,
             "ticks": ""
            },
            "colorscale": [
             [
              0,
              "#0d0887"
             ],
             [
              0.1111111111111111,
              "#46039f"
             ],
             [
              0.2222222222222222,
              "#7201a8"
             ],
             [
              0.3333333333333333,
              "#9c179e"
             ],
             [
              0.4444444444444444,
              "#bd3786"
             ],
             [
              0.5555555555555556,
              "#d8576b"
             ],
             [
              0.6666666666666666,
              "#ed7953"
             ],
             [
              0.7777777777777778,
              "#fb9f3a"
             ],
             [
              0.8888888888888888,
              "#fdca26"
             ],
             [
              1,
              "#f0f921"
             ]
            ],
            "type": "surface"
           }
          ],
          "table": [
           {
            "cells": {
             "fill": {
              "color": "#EBF0F8"
             },
             "line": {
              "color": "white"
             }
            },
            "header": {
             "fill": {
              "color": "#C8D4E3"
             },
             "line": {
              "color": "white"
             }
            },
            "type": "table"
           }
          ]
         },
         "layout": {
          "annotationdefaults": {
           "arrowcolor": "#2a3f5f",
           "arrowhead": 0,
           "arrowwidth": 1
          },
          "autotypenumbers": "strict",
          "coloraxis": {
           "colorbar": {
            "outlinewidth": 0,
            "ticks": ""
           }
          },
          "colorscale": {
           "diverging": [
            [
             0,
             "#8e0152"
            ],
            [
             0.1,
             "#c51b7d"
            ],
            [
             0.2,
             "#de77ae"
            ],
            [
             0.3,
             "#f1b6da"
            ],
            [
             0.4,
             "#fde0ef"
            ],
            [
             0.5,
             "#f7f7f7"
            ],
            [
             0.6,
             "#e6f5d0"
            ],
            [
             0.7,
             "#b8e186"
            ],
            [
             0.8,
             "#7fbc41"
            ],
            [
             0.9,
             "#4d9221"
            ],
            [
             1,
             "#276419"
            ]
           ],
           "sequential": [
            [
             0,
             "#0d0887"
            ],
            [
             0.1111111111111111,
             "#46039f"
            ],
            [
             0.2222222222222222,
             "#7201a8"
            ],
            [
             0.3333333333333333,
             "#9c179e"
            ],
            [
             0.4444444444444444,
             "#bd3786"
            ],
            [
             0.5555555555555556,
             "#d8576b"
            ],
            [
             0.6666666666666666,
             "#ed7953"
            ],
            [
             0.7777777777777778,
             "#fb9f3a"
            ],
            [
             0.8888888888888888,
             "#fdca26"
            ],
            [
             1,
             "#f0f921"
            ]
           ],
           "sequentialminus": [
            [
             0,
             "#0d0887"
            ],
            [
             0.1111111111111111,
             "#46039f"
            ],
            [
             0.2222222222222222,
             "#7201a8"
            ],
            [
             0.3333333333333333,
             "#9c179e"
            ],
            [
             0.4444444444444444,
             "#bd3786"
            ],
            [
             0.5555555555555556,
             "#d8576b"
            ],
            [
             0.6666666666666666,
             "#ed7953"
            ],
            [
             0.7777777777777778,
             "#fb9f3a"
            ],
            [
             0.8888888888888888,
             "#fdca26"
            ],
            [
             1,
             "#f0f921"
            ]
           ]
          },
          "colorway": [
           "#636efa",
           "#EF553B",
           "#00cc96",
           "#ab63fa",
           "#FFA15A",
           "#19d3f3",
           "#FF6692",
           "#B6E880",
           "#FF97FF",
           "#FECB52"
          ],
          "font": {
           "color": "#2a3f5f"
          },
          "geo": {
           "bgcolor": "white",
           "lakecolor": "white",
           "landcolor": "#E5ECF6",
           "showlakes": true,
           "showland": true,
           "subunitcolor": "white"
          },
          "hoverlabel": {
           "align": "left"
          },
          "hovermode": "closest",
          "mapbox": {
           "style": "light"
          },
          "paper_bgcolor": "white",
          "plot_bgcolor": "#E5ECF6",
          "polar": {
           "angularaxis": {
            "gridcolor": "white",
            "linecolor": "white",
            "ticks": ""
           },
           "bgcolor": "#E5ECF6",
           "radialaxis": {
            "gridcolor": "white",
            "linecolor": "white",
            "ticks": ""
           }
          },
          "scene": {
           "xaxis": {
            "backgroundcolor": "#E5ECF6",
            "gridcolor": "white",
            "gridwidth": 2,
            "linecolor": "white",
            "showbackground": true,
            "ticks": "",
            "zerolinecolor": "white"
           },
           "yaxis": {
            "backgroundcolor": "#E5ECF6",
            "gridcolor": "white",
            "gridwidth": 2,
            "linecolor": "white",
            "showbackground": true,
            "ticks": "",
            "zerolinecolor": "white"
           },
           "zaxis": {
            "backgroundcolor": "#E5ECF6",
            "gridcolor": "white",
            "gridwidth": 2,
            "linecolor": "white",
            "showbackground": true,
            "ticks": "",
            "zerolinecolor": "white"
           }
          },
          "shapedefaults": {
           "line": {
            "color": "#2a3f5f"
           }
          },
          "ternary": {
           "aaxis": {
            "gridcolor": "white",
            "linecolor": "white",
            "ticks": ""
           },
           "baxis": {
            "gridcolor": "white",
            "linecolor": "white",
            "ticks": ""
           },
           "bgcolor": "#E5ECF6",
           "caxis": {
            "gridcolor": "white",
            "linecolor": "white",
            "ticks": ""
           }
          },
          "title": {
           "x": 0.05
          },
          "xaxis": {
           "automargin": true,
           "gridcolor": "white",
           "linecolor": "white",
           "ticks": "",
           "title": {
            "standoff": 15
           },
           "zerolinecolor": "white",
           "zerolinewidth": 2
          },
          "yaxis": {
           "automargin": true,
           "gridcolor": "white",
           "linecolor": "white",
           "ticks": "",
           "title": {
            "standoff": 15
           },
           "zerolinecolor": "white",
           "zerolinewidth": 2
          }
         }
        },
        "title": {
         "text": "Number of airplane crashes with/without fatalities per hour of the day"
        },
        "xaxis": {
         "rangeselector": {
          "buttons": [
           {
            "count": 3,
            "label": "3 hours",
            "step": "hour",
            "stepmode": "backward"
           },
           {
            "count": 6,
            "label": "6 hours",
            "step": "hour",
            "stepmode": "backward"
           },
           {
            "count": 12,
            "label": "12 hours",
            "step": "hour",
            "stepmode": "backward"
           },
           {
            "step": "all"
           }
          ]
         },
         "rangeslider": {
          "visible": true
         },
         "ticktext": [
          "0:00",
          "1:00",
          "2:00",
          "3:00",
          "4:00",
          "5:00",
          "6:00",
          "7:00",
          "8:00",
          "9:00",
          "10:00",
          "11:00",
          "12:00",
          "13:00",
          "14:00",
          "15:00",
          "16:00",
          "17:00",
          "18:00",
          "19:00",
          "20:00",
          "21:00",
          "22:00",
          "23:00"
         ],
         "tickvals": [
          0,
          1,
          2,
          3,
          4,
          5,
          6,
          7,
          8,
          9,
          10,
          11,
          12,
          13,
          14,
          15,
          16,
          17,
          18,
          19,
          20,
          21,
          22,
          23
         ],
         "title": {
          "text": "Hour of the day"
         }
        },
        "yaxis": {
         "title": {
          "text": "Number of crashes"
         }
        }
       }
      }
     },
     "metadata": {},
     "output_type": "display_data"
    }
   ],
   "source": [
    "\n",
    "# Convert Time column to datetime type\n",
    "df['Time'] = pd.to_datetime(df['Time'], format='%H:%M')\n",
    "\n",
    "# Group by hour and calculate number of crashes with/without fatalities\n",
    "new_df = df.groupby([df[\"Time\"].dt.hour, df[\"Fatalities\"] > 0])[\"Time\"].count().unstack()\n",
    "new_df.fillna(0, inplace=True)\n",
    "new_df.columns = [\"No fatalities\", \"Has fatalities\"]\n",
    "\n",
    "# Define color scale for the lines\n",
    "color_scale = [\"#2ca02c\", \"#d62728\"]\n",
    "\n",
    "# Create a trace for each column of the new_df dataframe with corresponding color\n",
    "traces = []\n",
    "for i, column in enumerate(new_df.columns):\n",
    "    trace = go.Scatter(x=new_df.index, y=new_df[column], name=column, line=dict(color=color_scale[i]))\n",
    "    traces.append(trace)\n",
    "\n",
    "# Create a layout with a Manipulate View option for the x-axis range\n",
    "layout = go.Layout(title=\"Number of airplane crashes with/without fatalities per hour of the day\",\n",
    "                   xaxis=dict(title=\"Hour of the day\", tickvals=list(range(0, 24)), ticktext=[f\"{h}:00\" for h in range(0, 24)],\n",
    "                              rangeselector=dict(buttons=list([\n",
    "                                  dict(count=3, label='3 hours', step='hour', stepmode='backward'),\n",
    "                                  dict(count=6, label='6 hours', step='hour', stepmode='backward'),\n",
    "                                  dict(count=12, label='12 hours', step='hour', stepmode='backward'),\n",
    "                                  dict(step='all')\n",
    "                              ])),\n",
    "                              rangeslider=dict(visible=True)\n",
    "                             ),\n",
    "                   yaxis=dict(title=\"Number of crashes\"),\n",
    "                   margin=dict(l=50, r=50, b=50, t=50),\n",
    "                   legend=dict(x=0.05, y=1))\n",
    "\n",
    "# Create a figure with the traces and layout, and display it as a widget\n",
    "fig = go.Figure(data=traces, layout=layout)\n",
    "fig.show()\n",
    "\n",
    "\n"
   ]
  },
  {
   "attachments": {},
   "cell_type": "markdown",
   "metadata": {},
   "source": [
    "#### 3.3 Ý nghĩa của màu sắc\n",
    "- Nhóm em sử dụng màu xanh lá cây được sử dụng để đại diện cho số lượng vụ tai nạn máy bay không có người chết, trong khi đó màu đỏ được sử dụng để đại diện cho số lượng vụ tai nạn có người chết.\n",
    "\n",
    "- Màu xanh lá cây thường được sử dụng để biểu thị những giá trị tích cực hoặc những kết quả tốt, trong khi đó màu đỏ thường được sử dụng để biểu thị những giá trị tiêu cực hoặc những kết quả xấu. Vì vậy, sử dụng màu xanh lá cây và đỏ trong biểu đồ này giúp tăng tính trực quan và dễ hiểu của dữ liệu.\n",
    "\n",
    "- Sau khi bổ sung màu, ta có thể dễ dàng nhận thấy mức độ nghiêm trọng của các vụ tai nạn máy bay trong suốt 24 giờ. Đặc biệt là giữa khoảng từ 9 giờ sáng đến 6 giờ chiều, mức độ nghiêm trọng của các vụ tai nạn có người chết tăng lên đáng kể, đồng thời số lượng các vụ tai nạn không có người chết cũng giảm đi. Điều này có thể cho thấy rằng trong khoảng thời gian này, những vụ tai nạn có người chết có thể có liên quan đến mức độ khó khăn của việc thực hiện các chuyến bay."
   ]
  },
  {
   "attachments": {},
   "cell_type": "markdown",
   "metadata": {},
   "source": [
    "#### 3.4 Kĩ thuật\n",
    "- Nhóm chúng em đã sử dụng kĩ thuật Manipulate View để tạo ra một nút trượt để điều chỉnh dải giá trị của trục x. Khi chúng ta di chuyển nút trượt này, đồ thị sẽ tự động cập nhật để hiển thị dữ liệu ứng với dải giá trị được chọn.\n",
    "\n",
    "- Điều này giúp người dùng có thể dễ dàng trực quan hóa dữ liệu trong khoảng thời gian mong muốn mà không cần phải thay đổi mã lệnh. Điều này đặc biệt hữu ích khi dữ liệu có số lượng lớn và khó để hiển thị toàn bộ trên một đồ thị duy nhất.\n",
    "\n",
    "- Ví dụ, trong trường hợp của nhóm chúng em, dữ liệu của nhóm chúng em bao gồm số lượng tai nạn máy bay trong khoảng thời gian 0h-23h. Với kĩ thuật Manipulate View, người dùng có thể tập trung vào các giờ cụ thể mà họ quan tâm, chẳng hạn như những giờ thường xuyên xảy ra tai nạn máy bay có người chết để kiểm tra tình trạng an toàn của việc bay hiện tại.\n",
    "\n",
    "- Do đó, việc sử dụng kĩ thuật Manipulate View mang lại cho nhóm chúng em một cách tiếp cận trực quan và dễ dàng để khám phá dữ liệu và phân tích nó."
   ]
  },
  {
   "attachments": {},
   "cell_type": "markdown",
   "metadata": {},
   "source": [
    "#### 3.5 Nhận xét\n",
    "- Số vụ tai nạn máy bay không chứa tử vong trong giờ làm việc ban ngày (từ 7 giờ sáng đến 6 giờ tối) cao hơn so với các giờ khác trong ngày. Tuy nhiên, số vụ tai nạn có tử vong cũng cao nhất vào khoảng thời gian này, cho thấy khả năng xảy ra tai nạn nghiêm trọng trong giờ cao điểm là cao.\n",
    "\n",
    "- Trong giờ làm việc ban đêm (từ 7 giờ tối đến 6 giờ sáng), số vụ tai nạn có có tử vong tăng lên đáng kể so với các giờ trong ngày (đặc biệt là 0h), trong khi số vụ tai nạn không có tử vong giảm.\n",
    "\n",
    "- Có thể thấy rằng số vụ tai nạn có tử vong vào lúc 0h là rất cao so với các giờ khác trong ngày, với hơn 2250 vụ tai nạn. Điều này có thể được giải thích bởi nhiều yếu tố khác nhau, ví dụ như tình trạng mệt mỏi của phi hành đoàn vào cuối ca bay đêm, những điều kiện ánh sáng và thời tiết xấu vào buổi đêm, sự mất tập trung sau thời gian bay dài, và nhiều yếu tố xấu khác nữa."
   ]
  },
  {
   "attachments": {},
   "cell_type": "markdown",
   "metadata": {},
   "source": [
    "### 4. Bar chart"
   ]
  },
  {
   "attachments": {},
   "cell_type": "markdown",
   "metadata": {},
   "source": [
    "#### 4.1. Lý do lựa chọn biểu đồ"
   ]
  },
  {
   "attachments": {},
   "cell_type": "markdown",
   "metadata": {},
   "source": [
    "Bar chart là một biểu đồ hình chữ nhật sử dụng các cột dọc để biểu diễn dữ liệu số hoặc số liệu thống kê và thể hiện mối quan hệ so sánh, phân loại hoặc xu hướng của dữ liệu một cách trực quan."
   ]
  },
  {
   "attachments": {},
   "cell_type": "markdown",
   "metadata": {},
   "source": [
    "#### 4.2. Code"
   ]
  },
  {
   "cell_type": "code",
   "execution_count": 59,
   "metadata": {},
   "outputs": [
    {
     "data": {
      "image/png": "[encoded data removed]",
      "text/plain": [
       "<Figure size 1200x800 with 1 Axes>"
      ]
     },
     "metadata": {},
     "output_type": "display_data"
    }
   ],
   "source": [
    "# Lọc dữ liệu theo quốc gia và số lượng tổn thất\n",
    "df_filtered = df[['Location', 'Fatalities']].groupby(['Location']).agg(['count', 'sum'])\n",
    "df_filtered.columns = ['Count', 'Total Fatalities']\n",
    "df_filtered.reset_index(inplace=True)\n",
    "df_filtered.sort_values('Total Fatalities', ascending=False, inplace=True)\n",
    "\n",
    "# Trực quan hóa dữ liệu bằng biểu đồ barplot\n",
    "plt.figure(figsize=(12,8))\n",
    "sns.barplot(x='Total Fatalities', y='Location', data=df_filtered.head(10), palette='Reds_r')\n",
    "plt.title('Top 10 Location with the Highest Total Fatalities in Airplane Crashes')\n",
    "plt.xlabel('Total Fatalities')\n",
    "plt.ylabel('Country')\n",
    "plt.show()"
   ]
  },
  {
   "attachments": {},
   "cell_type": "markdown",
   "metadata": {},
   "source": [
    "#### 4.3. Ý nghĩa màu sắc\n",
    "- Chọn tone màu đỏ tượng trưng cho sự mất mát, đỏ đậm thể hiện có số người chết cao, nhạt dần thể hiện số người chết giảm đi\n",
    "#### 4.4. Kĩ thuật\n",
    "- Filter được sử dụng để thực hiện việc giảm số lượng dữ liệu và lọc dữ liệu dựa trên một số điều kiện.\n",
    "- Nhóm sẽ trực quan hóa số lượng vụ tai nạn và tổng số người thiệt mạng ở các quốc gia khác nhau.\n",
    "#### 4.5. Nhận xét\n",
    "- Biểu đồ cho thấy số người thiệt mạng do tai nạn máy bay của 10 địa điểm đứng đầu. \n",
    "- Chúng ta có thể dễ dàng nhận thấy rằng Tenerife, Canary Islands có tổng số lượng tử vong cao nhất, với hơn 700 người thiệt mạng trong tai nạn máy bay. Tiếp theo là Mt. Osutaka, near Ueno Village, Japan với hơn 500 người thiệt mạng."
   ]
  },
  {
   "attachments": {},
   "cell_type": "markdown",
   "metadata": {},
   "source": [
    "### 5. Bar chart & line chart"
   ]
  },
  {
   "attachments": {},
   "cell_type": "markdown",
   "metadata": {},
   "source": [
    "#### 5.1. Lý do lựa chọn biểu đồ\n",
    "- Bar chart là một biểu đồ hình chữ nhật sử dụng các cột dọc để biểu diễn dữ liệu số hoặc số liệu thống kê và thể hiện mối quan hệ so sánh, phân loại hoặc xu hướng của dữ liệu một cách trực quan.\n",
    "\n",
    "- Line chart là một biểu đồ dùng đường thẳng để biểu diễn sự thay đổi hoặc xu hướng của dữ liệu theo thời gian hoặc các giá trị liên tục khác.\n",
    "\n",
    "- Biểu đồ 1: Ta có thể trực quan hóa biểu đồ cột thể hiện số vụ tai nạn theo năm và biểu đồ đường thể hiện tổng số người chết trong các vụ tai nạn theo năm. \n",
    "\n",
    "- Biểu đồ 2: Chúng ta sử dụng một biểu đồ đường (line chart) để biểu diễn số lượng tai nạn máy bay theo thời gian và sử dụng một biểu đồ cột (bar chart) để biểu diễn số lượng tai nạn máy bay theo loại. "
   ]
  },
  {
   "attachments": {},
   "cell_type": "markdown",
   "metadata": {},
   "source": [
    "#### 5.2. Code"
   ]
  },
  {
   "cell_type": "code",
   "execution_count": 60,
   "metadata": {},
   "outputs": [
    {
     "data": {
      "image/png": "[encoded data removed]",
      "text/plain": [
       "<Figure size 1200x600 with 2 Axes>"
      ]
     },
     "metadata": {},
     "output_type": "display_data"
    }
   ],
   "source": [
    "# Biểu đồ 1\n",
    "# Tạo cột 'Year' từ cột 'Date'\n",
    "df['Year'] = pd.DatetimeIndex(df['Date']).year\n",
    "\n",
    "# Tính toán số vụ tai nạn theo năm\n",
    "crashes_per_year = df.groupby('Year')['Date'].count()\n",
    "\n",
    "# Tính toán tổng số người chết trong các vụ tai nạn theo năm\n",
    "fatalities_per_year = df.groupby('Year')['Fatalities'].sum()\n",
    "\n",
    "# Tạo biểu đồ cột\n",
    "fig, ax1 = plt.subplots(figsize=(12, 6))\n",
    "ax1.bar(crashes_per_year.index, crashes_per_year.values, color='tab:blue', alpha=0.7)\n",
    "ax1.set_xlabel('Year')\n",
    "ax1.set_ylabel('Number of crashes', color='tab:blue')\n",
    "ax1.tick_params(axis='y', labelcolor='tab:blue')\n",
    "\n",
    "# Tạo biểu đồ đường\n",
    "ax2 = ax1.twinx()\n",
    "ax2.plot(fatalities_per_year.index, fatalities_per_year.values, color='tab:red')\n",
    "ax2.set_ylabel('Number of fatalities', color='tab:red')\n",
    "ax2.tick_params(axis='y', labelcolor='tab:red')\n",
    "\n",
    "# Thiết lập tiêu đề\n",
    "plt.title('Airplane crashes and fatalities by year')\n",
    "\n",
    "# Hiển thị biểu đồ\n",
    "plt.show()"
   ]
  },
  {
   "cell_type": "code",
   "execution_count": 61,
   "metadata": {},
   "outputs": [
    {
     "data": {
      "image/png": "[encoded data removed]",
      "text/plain": [
       "<Figure size 1000x800 with 2 Axes>"
      ]
     },
     "metadata": {},
     "output_type": "display_data"
    }
   ],
   "source": [
    "# Biểu đồ 2\n",
    "# Biểu đồ đường: Đếm số lượng tai nạn máy bay theo năm\n",
    "crashes_by_year = df.groupby('Year').size()\n",
    "\n",
    "# Biểu đồ cột: Đếm số lượng tai nạn máy bay theo loại\n",
    "crashes_by_type = df['Type'].value_counts().head(10)\n",
    "\n",
    "# Tạo subplot để đồng bộ hóa các biểu đồ\n",
    "fig, (ax1, ax2) = plt.subplots(2, 1, figsize=(10, 8))\n",
    "\n",
    "# Biểu đồ thời gian\n",
    "ax1.plot(crashes_by_year.index, crashes_by_year.values, marker='o')\n",
    "ax1.set_xlabel('Year')\n",
    "ax1.set_ylabel('Number of Airplane Crashes')\n",
    "ax1.set_title('Airplane Crashes Over Time')\n",
    "\n",
    "# Biểu đồ theo loại máy bay\n",
    "sns.barplot(x=crashes_by_type.values, y=crashes_by_type.index, ax=ax2)\n",
    "ax2.set_xlabel('Number of Airplane Crashes')\n",
    "ax2.set_ylabel('Airplane Type')\n",
    "ax2.set_title('Top 10 Airplane Types Involved in Crashes')\n",
    "\n",
    "# Đồng bộ hóa trục y cho biểu đồ theo loại máy bay\n",
    "ax2.set_xlim([0, crashes_by_type.values.max() + 10])\n",
    "\n",
    "# Hiển thị biểu đồ\n",
    "plt.tight_layout()\n",
    "plt.show()\n"
   ]
  },
  {
   "attachments": {},
   "cell_type": "markdown",
   "metadata": {},
   "source": [
    "#### 5.3 Ý nghĩa của màu sắc\n",
    "- Biểu đồ 1: Nhóm em sử dụng màu xanh được sử dụng để đại diện cho số lượng vụ tai nạn máy bay theo năm, trong khi đó màu đỏ được sử dụng để đại diện cho tổng số người chết trong các vụ tai nạn theo năm.\n",
    "\n",
    "- Biểu đồ 2: Ở biểu đồ cột nhóm sử dụng đa dạng màu sắc để phân biệt các loại máy bay, giúp biểu đồ thêm phần sống động."
   ]
  },
  {
   "attachments": {},
   "cell_type": "markdown",
   "metadata": {},
   "source": [
    "#### 5.4. Kỹ thuật\n",
    "- Biểu đồ 1:\n",
    "    - Nhóm sử dụng kỹ thuật Superimpose Layers.\n",
    "\n",
    "    - Superimpose Layers là kỹ thuật trực quan hóa dữ liệu bằng cách đưa các đồ thị, biểu đồ lên chồng lên nhau, giúp so sánh và phân tích các thông tin liên quan đến nhau.\n",
    "\n",
    "- Biểu đồ 2:\n",
    "    - Nhóm sử dụng kỹ thuật Juxtapose and Coordinate Views.\n",
    "    \n",
    "    - Kỹ thuật Juxtapose and Coordinate Views là một phương pháp để trực quan hóa dữ liệu từ nhiều nguồn thông qua việc hiển thị các biểu đồ hoặc các thành phần trực quan khác cùng lúc."
   ]
  },
  {
   "attachments": {},
   "cell_type": "markdown",
   "metadata": {},
   "source": [
    "#### 5.5 Nhận xét\n",
    "- Biểu đồ 1:\n",
    "    - Có thể thấy số vụ tai nạn máy bay tăng lên đáng kể trong thập niên 1940 và đạt đỉnh điểm vào khoảng năm 1970 trước khi giảm dần.\n",
    "\n",
    "    - Biểu đồ cũng cho thấy sự tăng trưởng vượt bậc của ngành hàng không trong những năm gần đây khi số vụ tai nạn máy bay giảm đáng kể từ những năm 2000.\n",
    "\n",
    "    - Tuy nhiên, việc giảm số vụ tai nạn máy bay không đồng nghĩa với việc sự an toàn của ngành hàng không đã được đảm bảo hoàn toàn, vì số lượng \n",
    "    hành khách và chuyến bay cũng tăng lên nhanh chóng trong những năm qua.\n",
    "- Biểu đồ 2: \n",
    "    - Biểu đồ đường thể hiện số lượng tai nạn máy bay theo năm, giúp chúng ta nhìn thấy xu hướng và biến động của các tai nạn qua thời gian.\n",
    "\n",
    "    - Biểu đồ đường sử dụng đường thẳng nối các điểm dữ liệu giúp chúng ta dễ dàng nhận ra các xu hướng tăng giảm và các điểm cao điểm thấp trong dữ liệu.\n",
    "\n",
    "    - Trục x của biểu đồ đường biểu thị năm và trục y biểu thị số lượng tai nạn máy bay.\n",
    "\n",
    "    - Biểu đồ cột liệt kê top 10 loại máy bay gây ra nhiều tai nạn nhất.\n",
    "\n",
    "    - Sử dụng biểu đồ cột để so sánh số lượng tai nạn của từng loại máy bay.\n",
    "\n",
    "    - Trục x của biểu đồ cột biểu thị số lượng tai nạn và trục y biểu thị loại máy bay."
   ]
  },
  {
   "attachments": {},
   "cell_type": "markdown",
   "metadata": {},
   "source": [
    "### 6. Bar chart"
   ]
  },
  {
   "attachments": {},
   "cell_type": "markdown",
   "metadata": {},
   "source": [
    "#### 6.1. Lý do lựa chọn biểu đồ\n",
    "- Biểu đồ cột giúp chúng ta thống kê và có cái nhìn tổng quan để có được sự so sánh giữa các đối tượng\n",
    "- Ở đây, hiển thị các cột các loại operator và rate survival tương ứng , giúp dễ dàng so sánh, đưa ra đánh giá dựa theo số lượng mỗi loại"
   ]
  },
  {
   "attachments": {},
   "cell_type": "markdown",
   "metadata": {},
   "source": [
    "#### 6.2. Code"
   ]
  },
  {
   "cell_type": "code",
   "execution_count": 62,
   "metadata": {},
   "outputs": [],
   "source": [
    "df['Feature'] = np.where(df['Operator'].str.contains('Military'),'Military','Civil')\n",
    "#Get operator\n",
    "df['Operator'] = df['Operator'].str.split(\" - \").apply(lambda x: x[-1])"
   ]
  },
  {
   "cell_type": "code",
   "execution_count": 63,
   "metadata": {},
   "outputs": [
    {
     "name": "stderr",
     "output_type": "stream",
     "text": [
      "C:\\Users\\Admin\\AppData\\Local\\Temp\\ipykernel_3368\\4092981235.py:3: FutureWarning:\n",
      "\n",
      "Indexing with multiple keys (implicitly converted to a tuple of keys) will be deprecated, use a list instead.\n",
      "\n"
     ]
    },
    {
     "data": {
      "image/png": "[encoded data removed]",
      "text/plain": [
       "<Figure size 1300x500 with 2 Axes>"
      ]
     },
     "metadata": {},
     "output_type": "display_data"
    }
   ],
   "source": [
    "def plot_top_operator_crashes(n):\n",
    "    air_company = df[df['Feature']=='Civil'].groupby(\"Operator\")[\"Operator\"].count().sort_values(ascending=False).head(n).sort_index(ascending=True)\n",
    "    rate_survival = df[df['Feature']=='Civil'].groupby(\"Operator\",as_index=False)[\"Aboard\",\"Fatalities\"].sum()\n",
    "    rate_survival['Rate Survival'] = 1 - (rate_survival['Fatalities'] / rate_survival['Aboard'])\n",
    "    rate_survival = rate_survival.loc[rate_survival['Operator'].isin(air_company.index)].iloc[:,[0,3]]\n",
    "    rate_survival['Count'] = air_company.values\n",
    "    rate_survival.sort_values(by='Count',ascending=False,inplace=True)\n",
    "\n",
    "    f, (ax_bar1, ax_bar2) = plt.subplots(ncols=2, sharey=True, gridspec_kw= {\"width_ratios\":(1,1)},figsize=(13,5))\n",
    "    sns.barplot(data=rate_survival,x='Count',y='Operator',ax=ax_bar1,color='blue',palette='rocket')\n",
    "    sns.barplot(data=rate_survival,x='Rate Survival',y='Operator',ax=ax_bar2,color='#3274a1').set(ylabel=\"\")\n",
    "    plt.suptitle(\"The civil operator with the highest number of accidents\", fontsize=15)\n",
    "plot_top_operator_crashes(10)\n"
   ]
  },
  {
   "attachments": {},
   "cell_type": "markdown",
   "metadata": {},
   "source": [
    "#### 6.3. Ý nghĩa màu sắc\n",
    "- Biểu đồ cột sử dụng palette \"rocket\" để thể hiện các cột với màu đậm hơn ở đầu và màu sáng hơn ở cuối. Màu sắc này có thể làm nổi bật các giá trị lớn nhất thể hiện sự nghiêm trọng, tuy nhiên cũng có thể làm cho các giá trị nhỏ mờ nhạt hơn, thể hiện sự ít được quan tâm hơn\n",
    "- Biểu đồ có trục x là \"Rate Survival\" sử dụng màu xanh dương có chỉ số màu là `#3274a1`, là màu tượng trưng cho sự hi vọng để thể hiện tỉ lệ sống sót\n",
    "#### 6.4. Kĩ thuật\n",
    "- Đồ thị trên đã sử dụng kĩ thuật Item Aggregation\n",
    "#### 6.5. Nhận xét\n",
    "- Trong các hãng máy bay dân dụng, Air Taxi và Aeroflot có số ca tai nạn máy bay nhiều nhất và gấp nhiều lần so với những hãng khác\n",
    "- United Air Lines và Pan American World Airways có tỉ lệ người sống sót sau những vụ tai nạn là cao nhất: trên 50%"
   ]
  },
  {
   "attachments": {},
   "cell_type": "markdown",
   "metadata": {},
   "source": [
    "### 7. Line chart"
   ]
  },
  {
   "attachments": {},
   "cell_type": "markdown",
   "metadata": {},
   "source": [
    "#### 7.1. Lý do lựa chọn biểu đồ\n",
    "- Hiển thị các đường tương ứng với số lượng máy bay cùng một khung đồ thị(xét trong cùng một khung thời gian như nhau đối với số lượng chuyến bay trung bình trong 5 năm). Giúp quan sát trực quan hơn khi nhìn vào đồ thị, cũng có thể dễ dàng so sánh đưa ra đánh giá."
   ]
  },
  {
   "attachments": {},
   "cell_type": "markdown",
   "metadata": {},
   "source": [
    "#### 7.2. Code"
   ]
  },
  {
   "cell_type": "code",
   "execution_count": 64,
   "metadata": {},
   "outputs": [
    {
     "data": {
      "image/png": "[encoded data removed]",
      "text/plain": [
       "<Figure size 1500x1000 with 1 Axes>"
      ]
     },
     "metadata": {},
     "output_type": "display_data"
    }
   ],
   "source": [
    "crashes_by_year = df.groupby(df['Date'].dt.year)['Date'].count()\n",
    "crashes_by_year\n",
    "\n",
    "\n",
    "# Moving average of airplane crashes by year, window size = 5 years\n",
    "ma_crashes_by_year = crashes_by_year.rolling(window=5).mean()\n",
    "# In moving average, there is a delay equal to window size - 1.\n",
    "ma_crashes_by_year.fillna(0, inplace=True)\n",
    "ma_crashes_by_year\n",
    "\n",
    "\n",
    "plt.figure(figsize=[15,10])\n",
    "plt.grid(True)\n",
    "plt.plot(crashes_by_year, label='Airplane crashes in one year')\n",
    "plt.plot(ma_crashes_by_year, label='Moving average 5 years')\n",
    "plt.legend(loc=2)\n",
    "plt.title('Total airplane crashes by year')\n",
    "plt.xlabel('year')\n",
    "plt.ylabel('airplane crashes');"
   ]
  },
  {
   "attachments": {},
   "cell_type": "markdown",
   "metadata": {},
   "source": [
    "#### 7.4. Kỹ thuật\n",
    "- Đồ thị trên đã sử dụng kĩ thuật Static layers: Superimposed Line Charts, được giới thiệu trong bài Facet"
   ]
  }
 ],
 "metadata": {
  "kernelspec": {
   "display_name": "Python 3",
   "language": "python",
   "name": "python3"
  },
  "language_info": {
   "codemirror_mode": {
    "name": "ipython",
    "version": 3
   },
   "file_extension": ".py",
   "mimetype": "text/x-python",
   "name": "python",
   "nbconvert_exporter": "python",
   "pygments_lexer": "ipython3",
   "version": "3.10.0"
  },
  "orig_nbformat": 4
 },
 "nbformat": 4,
 "nbformat_minor": 2
}
